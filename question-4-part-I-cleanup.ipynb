{
 "cells": [
  {
   "cell_type": "markdown",
   "metadata": {},
   "source": [
    "# Tip Prediction, Part I: Data Cleanup & Feature Creation"
   ]
  },
  {
   "cell_type": "markdown",
   "metadata": {},
   "source": [
    "Author's Workday ID: C175799, Initials: RPR"
   ]
  },
  {
   "cell_type": "markdown",
   "metadata": {},
   "source": [
    "## Choose GPU"
   ]
  },
  {
   "cell_type": "code",
   "execution_count": 6,
   "metadata": {},
   "outputs": [
    {
     "name": "stdout",
     "output_type": "stream",
     "text": [
      "Select GPU [0 or 1]: 1\n"
     ]
    }
   ],
   "source": [
    "# From: https://github.com/keras-team/keras/issues/6031\n",
    "import os\n",
    "gpu_id = input( \"Select GPU [0 or 1]: \" )\n",
    "\n",
    "if gpu_id in [ \"0\", \"1\" ]:\n",
    "    os.environ[ \"CUDA_VISIBLE_DEVICES\" ] = gpu_id\n",
    "else:\n",
    "    print( \"Invalid GPU id.  Defaulting to '0,1'\" )"
   ]
  },
  {
   "cell_type": "markdown",
   "metadata": {},
   "source": [
    "## Imports and Util Functions"
   ]
  },
  {
   "cell_type": "code",
   "execution_count": 7,
   "metadata": {},
   "outputs": [
    {
     "name": "stdout",
     "output_type": "stream",
     "text": [
      "2018.06.01 15:32\n",
      "Time to process: [1.0] hours\n"
     ]
    }
   ],
   "source": [
    "import pandas as pd\n",
    "import numpy as np\n",
    "import time\n",
    "import datetime\n",
    "import math\n",
    "import random\n",
    "\n",
    "def get_time( output=True ):\n",
    "    \n",
    "    temp = time.time()\n",
    "    if output:\n",
    "        now = datetime.datetime.now()\n",
    "        print( now.strftime( \"%Y.%m.%d %H:%M\" ) )\n",
    "        \n",
    "    return temp\n",
    "\n",
    "foo = get_time()\n",
    "\n",
    "def print_time( start_time, end_time, interval=\"seconds\" ):\n",
    "    \n",
    "    if interval == \"hours\":\n",
    "        print ( \"Time to process: [%s] hours\" % ( str( ( end_time - start_time ) / 60 / 60 ) ) )\n",
    "    else:\n",
    "        print ( \"Time to process: [%s] seconds\" % ( str( end_time - start_time ) ) )\n",
    "\n",
    "print_time( 0, 3600, interval=\"hours\" )\n",
    "\n",
    "verbose = False"
   ]
  },
  {
   "cell_type": "markdown",
   "metadata": {},
   "source": [
    "## Load Data & Rename Columns"
   ]
  },
  {
   "cell_type": "code",
   "execution_count": 8,
   "metadata": {},
   "outputs": [
    {
     "name": "stdout",
     "output_type": "stream",
     "text": [
      "2018.06.01 15:32\n",
      "2018.06.01 15:32\n",
      "Time to process: [2.868013620376587] seconds\n"
     ]
    }
   ],
   "source": [
    "page_start = get_time()\n",
    "trips = pd.read_csv( \"data/green-tripdata-2015-09-raw.csv\" )\n",
    "trips.columns = map( str.lower, trips.columns )\n",
    "if verbose: print( list( trips.columns ) )\n",
    "print_time( page_start, get_time() )"
   ]
  },
  {
   "cell_type": "markdown",
   "metadata": {},
   "source": [
    "## Quick Look: What Does Data Look Like?"
   ]
  },
  {
   "cell_type": "code",
   "execution_count": 9,
   "metadata": {},
   "outputs": [
    {
     "name": "stdout",
     "output_type": "stream",
     "text": [
      "Rows in dataframe:  1494926\n"
     ]
    },
    {
     "data": {
      "text/html": [
       "<div>\n",
       "<style scoped>\n",
       "    .dataframe tbody tr th:only-of-type {\n",
       "        vertical-align: middle;\n",
       "    }\n",
       "\n",
       "    .dataframe tbody tr th {\n",
       "        vertical-align: top;\n",
       "    }\n",
       "\n",
       "    .dataframe thead th {\n",
       "        text-align: right;\n",
       "    }\n",
       "</style>\n",
       "<table border=\"1\" class=\"dataframe\">\n",
       "  <thead>\n",
       "    <tr style=\"text-align: right;\">\n",
       "      <th></th>\n",
       "      <th>vendorid</th>\n",
       "      <th>ratecodeid</th>\n",
       "      <th>pickup_longitude</th>\n",
       "      <th>pickup_latitude</th>\n",
       "      <th>dropoff_longitude</th>\n",
       "      <th>dropoff_latitude</th>\n",
       "      <th>passenger_count</th>\n",
       "      <th>trip_distance</th>\n",
       "      <th>fare_amount</th>\n",
       "      <th>extra</th>\n",
       "      <th>mta_tax</th>\n",
       "      <th>tip_amount</th>\n",
       "      <th>tolls_amount</th>\n",
       "      <th>ehail_fee</th>\n",
       "      <th>improvement_surcharge</th>\n",
       "      <th>total_amount</th>\n",
       "      <th>payment_type</th>\n",
       "      <th>trip_type</th>\n",
       "    </tr>\n",
       "  </thead>\n",
       "  <tbody>\n",
       "    <tr>\n",
       "      <th>count</th>\n",
       "      <td>1.494926e+06</td>\n",
       "      <td>1.494926e+06</td>\n",
       "      <td>1.494926e+06</td>\n",
       "      <td>1.494926e+06</td>\n",
       "      <td>1.494926e+06</td>\n",
       "      <td>1.494926e+06</td>\n",
       "      <td>1.494926e+06</td>\n",
       "      <td>1.494926e+06</td>\n",
       "      <td>1.494926e+06</td>\n",
       "      <td>1.494926e+06</td>\n",
       "      <td>1.494926e+06</td>\n",
       "      <td>1.494926e+06</td>\n",
       "      <td>1.494926e+06</td>\n",
       "      <td>0.0</td>\n",
       "      <td>1.494926e+06</td>\n",
       "      <td>1.494926e+06</td>\n",
       "      <td>1.494926e+06</td>\n",
       "      <td>1.494922e+06</td>\n",
       "    </tr>\n",
       "    <tr>\n",
       "      <th>mean</th>\n",
       "      <td>1.782045e+00</td>\n",
       "      <td>1.097653e+00</td>\n",
       "      <td>-7.383084e+01</td>\n",
       "      <td>4.069114e+01</td>\n",
       "      <td>-7.383728e+01</td>\n",
       "      <td>4.069291e+01</td>\n",
       "      <td>1.370598e+00</td>\n",
       "      <td>2.968141e+00</td>\n",
       "      <td>1.254320e+01</td>\n",
       "      <td>3.512800e-01</td>\n",
       "      <td>4.866408e-01</td>\n",
       "      <td>1.235727e+00</td>\n",
       "      <td>1.231047e-01</td>\n",
       "      <td>NaN</td>\n",
       "      <td>2.920991e-01</td>\n",
       "      <td>1.503215e+01</td>\n",
       "      <td>1.540559e+00</td>\n",
       "      <td>1.022353e+00</td>\n",
       "    </tr>\n",
       "    <tr>\n",
       "      <th>std</th>\n",
       "      <td>4.128570e-01</td>\n",
       "      <td>6.359437e-01</td>\n",
       "      <td>2.776082e+00</td>\n",
       "      <td>1.530882e+00</td>\n",
       "      <td>2.677911e+00</td>\n",
       "      <td>1.476698e+00</td>\n",
       "      <td>1.039426e+00</td>\n",
       "      <td>3.076621e+00</td>\n",
       "      <td>1.008278e+01</td>\n",
       "      <td>3.663096e-01</td>\n",
       "      <td>8.504473e-02</td>\n",
       "      <td>2.431476e+00</td>\n",
       "      <td>8.910137e-01</td>\n",
       "      <td>NaN</td>\n",
       "      <td>5.074009e-02</td>\n",
       "      <td>1.155316e+01</td>\n",
       "      <td>5.232935e-01</td>\n",
       "      <td>1.478288e-01</td>\n",
       "    </tr>\n",
       "    <tr>\n",
       "      <th>min</th>\n",
       "      <td>1.000000e+00</td>\n",
       "      <td>1.000000e+00</td>\n",
       "      <td>-8.331908e+01</td>\n",
       "      <td>0.000000e+00</td>\n",
       "      <td>-8.342784e+01</td>\n",
       "      <td>0.000000e+00</td>\n",
       "      <td>0.000000e+00</td>\n",
       "      <td>0.000000e+00</td>\n",
       "      <td>-4.750000e+02</td>\n",
       "      <td>-1.000000e+00</td>\n",
       "      <td>-5.000000e-01</td>\n",
       "      <td>-5.000000e+01</td>\n",
       "      <td>-1.529000e+01</td>\n",
       "      <td>NaN</td>\n",
       "      <td>-3.000000e-01</td>\n",
       "      <td>-4.750000e+02</td>\n",
       "      <td>1.000000e+00</td>\n",
       "      <td>1.000000e+00</td>\n",
       "    </tr>\n",
       "    <tr>\n",
       "      <th>25%</th>\n",
       "      <td>2.000000e+00</td>\n",
       "      <td>1.000000e+00</td>\n",
       "      <td>-7.395961e+01</td>\n",
       "      <td>4.069895e+01</td>\n",
       "      <td>-7.396782e+01</td>\n",
       "      <td>4.069878e+01</td>\n",
       "      <td>1.000000e+00</td>\n",
       "      <td>1.100000e+00</td>\n",
       "      <td>6.500000e+00</td>\n",
       "      <td>0.000000e+00</td>\n",
       "      <td>5.000000e-01</td>\n",
       "      <td>0.000000e+00</td>\n",
       "      <td>0.000000e+00</td>\n",
       "      <td>NaN</td>\n",
       "      <td>3.000000e-01</td>\n",
       "      <td>8.160000e+00</td>\n",
       "      <td>1.000000e+00</td>\n",
       "      <td>1.000000e+00</td>\n",
       "    </tr>\n",
       "    <tr>\n",
       "      <th>50%</th>\n",
       "      <td>2.000000e+00</td>\n",
       "      <td>1.000000e+00</td>\n",
       "      <td>-7.394536e+01</td>\n",
       "      <td>4.074674e+01</td>\n",
       "      <td>-7.394504e+01</td>\n",
       "      <td>4.074728e+01</td>\n",
       "      <td>1.000000e+00</td>\n",
       "      <td>1.980000e+00</td>\n",
       "      <td>9.500000e+00</td>\n",
       "      <td>5.000000e-01</td>\n",
       "      <td>5.000000e-01</td>\n",
       "      <td>0.000000e+00</td>\n",
       "      <td>0.000000e+00</td>\n",
       "      <td>NaN</td>\n",
       "      <td>3.000000e-01</td>\n",
       "      <td>1.176000e+01</td>\n",
       "      <td>2.000000e+00</td>\n",
       "      <td>1.000000e+00</td>\n",
       "    </tr>\n",
       "    <tr>\n",
       "      <th>75%</th>\n",
       "      <td>2.000000e+00</td>\n",
       "      <td>1.000000e+00</td>\n",
       "      <td>-7.391748e+01</td>\n",
       "      <td>4.080255e+01</td>\n",
       "      <td>-7.391013e+01</td>\n",
       "      <td>4.079015e+01</td>\n",
       "      <td>1.000000e+00</td>\n",
       "      <td>3.740000e+00</td>\n",
       "      <td>1.550000e+01</td>\n",
       "      <td>5.000000e-01</td>\n",
       "      <td>5.000000e-01</td>\n",
       "      <td>2.000000e+00</td>\n",
       "      <td>0.000000e+00</td>\n",
       "      <td>NaN</td>\n",
       "      <td>3.000000e-01</td>\n",
       "      <td>1.830000e+01</td>\n",
       "      <td>2.000000e+00</td>\n",
       "      <td>1.000000e+00</td>\n",
       "    </tr>\n",
       "    <tr>\n",
       "      <th>max</th>\n",
       "      <td>2.000000e+00</td>\n",
       "      <td>9.900000e+01</td>\n",
       "      <td>0.000000e+00</td>\n",
       "      <td>4.317726e+01</td>\n",
       "      <td>0.000000e+00</td>\n",
       "      <td>4.279934e+01</td>\n",
       "      <td>9.000000e+00</td>\n",
       "      <td>6.031000e+02</td>\n",
       "      <td>5.805000e+02</td>\n",
       "      <td>1.200000e+01</td>\n",
       "      <td>5.000000e-01</td>\n",
       "      <td>3.000000e+02</td>\n",
       "      <td>9.575000e+01</td>\n",
       "      <td>NaN</td>\n",
       "      <td>3.000000e-01</td>\n",
       "      <td>5.813000e+02</td>\n",
       "      <td>5.000000e+00</td>\n",
       "      <td>2.000000e+00</td>\n",
       "    </tr>\n",
       "  </tbody>\n",
       "</table>\n",
       "</div>"
      ],
      "text/plain": [
       "           vendorid    ratecodeid  pickup_longitude  pickup_latitude  \\\n",
       "count  1.494926e+06  1.494926e+06      1.494926e+06     1.494926e+06   \n",
       "mean   1.782045e+00  1.097653e+00     -7.383084e+01     4.069114e+01   \n",
       "std    4.128570e-01  6.359437e-01      2.776082e+00     1.530882e+00   \n",
       "min    1.000000e+00  1.000000e+00     -8.331908e+01     0.000000e+00   \n",
       "25%    2.000000e+00  1.000000e+00     -7.395961e+01     4.069895e+01   \n",
       "50%    2.000000e+00  1.000000e+00     -7.394536e+01     4.074674e+01   \n",
       "75%    2.000000e+00  1.000000e+00     -7.391748e+01     4.080255e+01   \n",
       "max    2.000000e+00  9.900000e+01      0.000000e+00     4.317726e+01   \n",
       "\n",
       "       dropoff_longitude  dropoff_latitude  passenger_count  trip_distance  \\\n",
       "count       1.494926e+06      1.494926e+06     1.494926e+06   1.494926e+06   \n",
       "mean       -7.383728e+01      4.069291e+01     1.370598e+00   2.968141e+00   \n",
       "std         2.677911e+00      1.476698e+00     1.039426e+00   3.076621e+00   \n",
       "min        -8.342784e+01      0.000000e+00     0.000000e+00   0.000000e+00   \n",
       "25%        -7.396782e+01      4.069878e+01     1.000000e+00   1.100000e+00   \n",
       "50%        -7.394504e+01      4.074728e+01     1.000000e+00   1.980000e+00   \n",
       "75%        -7.391013e+01      4.079015e+01     1.000000e+00   3.740000e+00   \n",
       "max         0.000000e+00      4.279934e+01     9.000000e+00   6.031000e+02   \n",
       "\n",
       "        fare_amount         extra       mta_tax    tip_amount  tolls_amount  \\\n",
       "count  1.494926e+06  1.494926e+06  1.494926e+06  1.494926e+06  1.494926e+06   \n",
       "mean   1.254320e+01  3.512800e-01  4.866408e-01  1.235727e+00  1.231047e-01   \n",
       "std    1.008278e+01  3.663096e-01  8.504473e-02  2.431476e+00  8.910137e-01   \n",
       "min   -4.750000e+02 -1.000000e+00 -5.000000e-01 -5.000000e+01 -1.529000e+01   \n",
       "25%    6.500000e+00  0.000000e+00  5.000000e-01  0.000000e+00  0.000000e+00   \n",
       "50%    9.500000e+00  5.000000e-01  5.000000e-01  0.000000e+00  0.000000e+00   \n",
       "75%    1.550000e+01  5.000000e-01  5.000000e-01  2.000000e+00  0.000000e+00   \n",
       "max    5.805000e+02  1.200000e+01  5.000000e-01  3.000000e+02  9.575000e+01   \n",
       "\n",
       "       ehail_fee  improvement_surcharge  total_amount  payment_type  \\\n",
       "count        0.0           1.494926e+06  1.494926e+06  1.494926e+06   \n",
       "mean         NaN           2.920991e-01  1.503215e+01  1.540559e+00   \n",
       "std          NaN           5.074009e-02  1.155316e+01  5.232935e-01   \n",
       "min          NaN          -3.000000e-01 -4.750000e+02  1.000000e+00   \n",
       "25%          NaN           3.000000e-01  8.160000e+00  1.000000e+00   \n",
       "50%          NaN           3.000000e-01  1.176000e+01  2.000000e+00   \n",
       "75%          NaN           3.000000e-01  1.830000e+01  2.000000e+00   \n",
       "max          NaN           3.000000e-01  5.813000e+02  5.000000e+00   \n",
       "\n",
       "          trip_type  \n",
       "count  1.494922e+06  \n",
       "mean   1.022353e+00  \n",
       "std    1.478288e-01  \n",
       "min    1.000000e+00  \n",
       "25%    1.000000e+00  \n",
       "50%    1.000000e+00  \n",
       "75%    1.000000e+00  \n",
       "max    2.000000e+00  "
      ]
     },
     "execution_count": 9,
     "metadata": {},
     "output_type": "execute_result"
    }
   ],
   "source": [
    "rows_original = trips.shape[ 0 ]\n",
    "print( \"Rows in dataframe: \", rows_original )\n",
    "\n",
    "# eyeball unruly values\n",
    "trips.describe()"
   ]
  },
  {
   "cell_type": "markdown",
   "metadata": {},
   "source": [
    "## Observation"
   ]
  },
  {
   "cell_type": "markdown",
   "metadata": {},
   "source": [
    "At a glance, we see that: \n",
    "\n",
    "1. ehail_fee is full of NaNs, so we'll drop this column\n",
    "2. fare_amount, extra, mta_tax, tip_amount, tolls_amount, improvement_surcharge, total_amount all have negative and/or zero values. Not known: whether neg numbers are refunds or errors, so we'll drop them.\n",
    "3. passenger_count has 0 as a min\n",
    "4. pickup/dropoff lat/lons have 0's for mins/max's, which is inappropriate for the given geographic context.  We'll address in a naive way towards the end"
   ]
  },
  {
   "cell_type": "markdown",
   "metadata": {},
   "source": [
    "## Data Cleanup"
   ]
  },
  {
   "cell_type": "markdown",
   "metadata": {},
   "source": [
    "### Define Min/Max Function"
   ]
  },
  {
   "cell_type": "code",
   "execution_count": 10,
   "metadata": {},
   "outputs": [],
   "source": [
    "# we'll use this later to check results of cleanup\n",
    "def display_min_max():\n",
    "\n",
    "    for column in trips.columns:\n",
    "        print( column, \"min:\", trips[ column ].min(), \"--- max:\", trips[ column ].max() )\n",
    "        \n",
    "if verbose: print( display_min_max() )"
   ]
  },
  {
   "cell_type": "markdown",
   "metadata": {},
   "source": [
    "## Drop"
   ]
  },
  {
   "cell_type": "code",
   "execution_count": 11,
   "metadata": {},
   "outputs": [],
   "source": [
    "# drop ehail_fee, full of NaNs!\n",
    "trips.drop( columns=[ \"ehail_fee\" ], inplace=True )"
   ]
  },
  {
   "cell_type": "markdown",
   "metadata": {},
   "source": [
    "## Filter Counterintuitive Values"
   ]
  },
  {
   "cell_type": "code",
   "execution_count": 12,
   "metadata": {},
   "outputs": [],
   "source": [
    "# drop records w/ counterintuitively negative values\n",
    "trips = trips[ trips.fare_amount > 0 ]\n",
    "trips = trips[ trips.extra >= 0 ]\n",
    "trips = trips[ trips.mta_tax >= 0 ]\n",
    "trips = trips[ trips.tip_amount >= 0 ]\n",
    "trips = trips[ trips.tolls_amount >= 0 ]\n",
    "trips = trips[ trips.improvement_surcharge >= 0 ]\n",
    "# http://www.nyc.gov/html/tlc/html/passenger/taxicab_rate.shtml\n",
    "trips = trips[ trips.total_amount > 2.5 ]\n",
    "trips = trips[ trips.passenger_count > 0 ]\n",
    "\n",
    "# http://www.nyc.gov/html/tlc/downloads/pdf/data_dictionary_trip_records_green.pdf\n",
    "trips = trips[ trips.ratecodeid <= 6 ]\n",
    "\n",
    "if verbose: print( \"Records dropped with negative, and/or counter-intuitive values:\", rows_original - len( trips ) )"
   ]
  },
  {
   "cell_type": "markdown",
   "metadata": {},
   "source": [
    "## Feature Generation: Pickup & Dropoff"
   ]
  },
  {
   "cell_type": "code",
   "execution_count": 13,
   "metadata": {},
   "outputs": [],
   "source": [
    "# convert to datetime\n",
    "trips.lpep_dropoff_datetime = pd.to_datetime( trips.lpep_dropoff_datetime )\n",
    "trips.lpep_pickup_datetime = pd.to_datetime( trips.lpep_pickup_datetime )\n",
    "if verbose: print( trips.lpep_dropoff_datetime.describe() )"
   ]
  },
  {
   "cell_type": "code",
   "execution_count": 14,
   "metadata": {},
   "outputs": [],
   "source": [
    "trips[ 'trip_duration_mins' ] = ( \n",
    "\n",
    "    ( trips.lpep_dropoff_datetime - trips.lpep_pickup_datetime ).apply( \n",
    "    lambda duration: duration.total_seconds() / 60.0 ) \n",
    ")\n",
    "if verbose: print( trips[ 'trip_duration_mins' ].describe() )"
   ]
  },
  {
   "cell_type": "code",
   "execution_count": 15,
   "metadata": {},
   "outputs": [],
   "source": [
    "trips[ \"pickup_day_of_week\" ] = trips.lpep_pickup_datetime.dt.dayofweek\n",
    "if verbose: print( trips[ \"pickup_day_of_week\" ].describe() )"
   ]
  },
  {
   "cell_type": "code",
   "execution_count": 16,
   "metadata": {},
   "outputs": [],
   "source": [
    "trips[ \"pickup_day\" ] = trips.lpep_pickup_datetime.dt.day\n",
    "if verbose: print( trips[ \"pickup_day\" ].describe() )"
   ]
  },
  {
   "cell_type": "code",
   "execution_count": 17,
   "metadata": {},
   "outputs": [],
   "source": [
    "trips[ \"pickup_hour\" ] = trips.lpep_pickup_datetime.dt.hour\n",
    "if verbose: print( trips[ \"pickup_hour\" ].describe() )"
   ]
  },
  {
   "cell_type": "code",
   "execution_count": 18,
   "metadata": {},
   "outputs": [],
   "source": [
    "trips[ \"pickup_minute\" ] = trips.lpep_pickup_datetime.dt.minute\n",
    "if verbose: print( trips[ \"pickup_minute\" ].describe() )"
   ]
  },
  {
   "cell_type": "code",
   "execution_count": 19,
   "metadata": {},
   "outputs": [],
   "source": [
    "trips[ \"dropoff_day_of_week\" ] = trips.lpep_dropoff_datetime.dt.dayofweek\n",
    "if verbose: print( trips[ \"dropoff_day_of_week\" ].describe() )"
   ]
  },
  {
   "cell_type": "code",
   "execution_count": 20,
   "metadata": {},
   "outputs": [],
   "source": [
    "trips[ \"dropoff_day\" ] = trips.lpep_pickup_datetime.dt.day\n",
    "if verbose: print( trips[ \"dropoff_day\" ].describe() )"
   ]
  },
  {
   "cell_type": "code",
   "execution_count": 21,
   "metadata": {},
   "outputs": [],
   "source": [
    "trips[ \"dropoff_hour\" ] = trips.lpep_dropoff_datetime.dt.hour\n",
    "if verbose: print( trips[ \"dropoff_hour\" ].describe() )"
   ]
  },
  {
   "cell_type": "code",
   "execution_count": 22,
   "metadata": {},
   "outputs": [],
   "source": [
    "trips[ \"dropoff_minute\" ] = trips.lpep_dropoff_datetime.dt.minute\n",
    "if verbose: print( trips[ \"dropoff_minute\" ].describe() )"
   ]
  },
  {
   "cell_type": "code",
   "execution_count": 23,
   "metadata": {},
   "outputs": [],
   "source": [
    "# drop pickup/dropoff?\n",
    "trips.drop( columns=[ \"lpep_dropoff_datetime\", \"lpep_pickup_datetime\" ], inplace=True )"
   ]
  },
  {
   "cell_type": "markdown",
   "metadata": {},
   "source": [
    "## Filter Counterintuitive Lat/Lons for Pickup & Dropoff"
   ]
  },
  {
   "cell_type": "code",
   "execution_count": 24,
   "metadata": {},
   "outputs": [],
   "source": [
    "# Dropoffs\n",
    "if verbose: print( trips.dropoff_longitude.describe() )\n",
    "if verbose: print( len( trips[ trips.dropoff_longitude == 0.0 ] ) )\n",
    "trips = trips[ trips.dropoff_longitude < 0.0 ]\n",
    "if verbose: print( len( trips[ trips.dropoff_longitude == 0.0 ] ) )\n",
    "if verbose: print( trips.dropoff_longitude.describe() )\n",
    "    \n",
    "# Pickups\n",
    "if verbose: print( trips.pickup_longitude.describe() )\n",
    "if verbose: print( len( trips[ trips.pickup_longitude == 0.0 ] ) )\n",
    "trips = trips[ trips.pickup_longitude < 0.0 ]\n",
    "if verbose: print( len( trips[ trips.pickup_longitude == 0.0 ] ) )\n",
    "if verbose: print( trips.pickup_longitude.describe() )"
   ]
  },
  {
   "cell_type": "code",
   "execution_count": 25,
   "metadata": {},
   "outputs": [],
   "source": [
    "# simply dropping 0 values for longitudes also cleaned up zero'd latitudes too!\n",
    "if verbose: display_min_max()"
   ]
  },
  {
   "cell_type": "code",
   "execution_count": null,
   "metadata": {},
   "outputs": [],
   "source": []
  },
  {
   "cell_type": "markdown",
   "metadata": {},
   "source": [
    "## Calculate Tips as Percentage"
   ]
  },
  {
   "cell_type": "code",
   "execution_count": 26,
   "metadata": {},
   "outputs": [],
   "source": [
    "# add tip as percent\n",
    "trips[ \"tip_percent\" ] = ( trips.tip_amount / trips.fare_amount ) * 100\n",
    "# simply dropping 0 values for longitudes also cleaned up zero'd latitudes too!\n",
    "if verbose: print( trips.tip_percent.describe() )"
   ]
  },
  {
   "cell_type": "code",
   "execution_count": 27,
   "metadata": {},
   "outputs": [
    {
     "data": {
      "text/html": [
       "<div>\n",
       "<style scoped>\n",
       "    .dataframe tbody tr th:only-of-type {\n",
       "        vertical-align: middle;\n",
       "    }\n",
       "\n",
       "    .dataframe tbody tr th {\n",
       "        vertical-align: top;\n",
       "    }\n",
       "\n",
       "    .dataframe thead th {\n",
       "        text-align: right;\n",
       "    }\n",
       "</style>\n",
       "<table border=\"1\" class=\"dataframe\">\n",
       "  <thead>\n",
       "    <tr style=\"text-align: right;\">\n",
       "      <th></th>\n",
       "      <th>vendorid</th>\n",
       "      <th>store_and_fwd_flag</th>\n",
       "      <th>ratecodeid</th>\n",
       "      <th>pickup_longitude</th>\n",
       "      <th>pickup_latitude</th>\n",
       "      <th>dropoff_longitude</th>\n",
       "      <th>dropoff_latitude</th>\n",
       "      <th>passenger_count</th>\n",
       "      <th>trip_distance</th>\n",
       "      <th>fare_amount</th>\n",
       "      <th>...</th>\n",
       "      <th>trip_duration_mins</th>\n",
       "      <th>pickup_day_of_week</th>\n",
       "      <th>pickup_day</th>\n",
       "      <th>pickup_hour</th>\n",
       "      <th>pickup_minute</th>\n",
       "      <th>dropoff_day_of_week</th>\n",
       "      <th>dropoff_day</th>\n",
       "      <th>dropoff_hour</th>\n",
       "      <th>dropoff_minute</th>\n",
       "      <th>tip_percent</th>\n",
       "    </tr>\n",
       "  </thead>\n",
       "  <tbody>\n",
       "    <tr>\n",
       "      <th>88505</th>\n",
       "      <td>2</td>\n",
       "      <td>N</td>\n",
       "      <td>5</td>\n",
       "      <td>-73.926178</td>\n",
       "      <td>40.672138</td>\n",
       "      <td>-73.92617</td>\n",
       "      <td>40.672153</td>\n",
       "      <td>1</td>\n",
       "      <td>0.0</td>\n",
       "      <td>0.1</td>\n",
       "      <td>...</td>\n",
       "      <td>0.05</td>\n",
       "      <td>3</td>\n",
       "      <td>3</td>\n",
       "      <td>3</td>\n",
       "      <td>26</td>\n",
       "      <td>3</td>\n",
       "      <td>3</td>\n",
       "      <td>3</td>\n",
       "      <td>26</td>\n",
       "      <td>15000.0</td>\n",
       "    </tr>\n",
       "  </tbody>\n",
       "</table>\n",
       "<p>1 rows × 28 columns</p>\n",
       "</div>"
      ],
      "text/plain": [
       "       vendorid store_and_fwd_flag  ratecodeid  pickup_longitude  \\\n",
       "88505         2                  N           5        -73.926178   \n",
       "\n",
       "       pickup_latitude  dropoff_longitude  dropoff_latitude  passenger_count  \\\n",
       "88505        40.672138          -73.92617         40.672153                1   \n",
       "\n",
       "       trip_distance  fare_amount     ...       trip_duration_mins  \\\n",
       "88505            0.0          0.1     ...                     0.05   \n",
       "\n",
       "       pickup_day_of_week  pickup_day  pickup_hour  pickup_minute  \\\n",
       "88505                   3           3            3             26   \n",
       "\n",
       "       dropoff_day_of_week  dropoff_day  dropoff_hour  dropoff_minute  \\\n",
       "88505                    3            3             3              26   \n",
       "\n",
       "       tip_percent  \n",
       "88505      15000.0  \n",
       "\n",
       "[1 rows x 28 columns]"
      ]
     },
     "execution_count": 27,
     "metadata": {},
     "output_type": "execute_result"
    }
   ],
   "source": [
    "# who's the *HUGE* tipper?\n",
    "max_tip = trips.tip_percent.max()\n",
    "if verbose: print( max_tip )\n",
    "trips[ trips.tip_percent == max_tip ]\n",
    "# ...oh, nevermind :-|"
   ]
  },
  {
   "cell_type": "code",
   "execution_count": 28,
   "metadata": {},
   "outputs": [],
   "source": [
    "# remove tip outliers \n",
    "tip_p_sd   = trips.tip_percent.std()\n",
    "tip_p_mean = trips.tip_percent.mean()\n",
    "\n",
    "# limit tips to w/in 3 stdv\n",
    "if verbose: print( len( trips[ trips.tip_percent > tip_p_mean + 3 * tip_p_sd ] ) )\n",
    "trips = trips[ trips.tip_percent <= tip_p_mean + 3 * tip_p_sd ]\n",
    "if verbose: print( len( trips[ trips.tip_percent > tip_p_mean + 3 * tip_p_sd ] ) )"
   ]
  },
  {
   "cell_type": "markdown",
   "metadata": {},
   "source": [
    "## ¿Convert Store and Forward?"
   ]
  },
  {
   "cell_type": "code",
   "execution_count": 29,
   "metadata": {},
   "outputs": [],
   "source": [
    "# convert char flag to boolean\n",
    "if verbose: print( trips.store_and_fwd_flag.unique() )\n",
    "y_n_boolean_dict = { 'Y':True, 'N':False }\n",
    "trips.store_and_fwd_flag = trips.store_and_fwd_flag.map( y_n_boolean_dict )\n",
    "if verbose: print( trips.store_and_fwd_flag.unique() )"
   ]
  },
  {
   "cell_type": "markdown",
   "metadata": {},
   "source": [
    "## Calculate Ground Speed"
   ]
  },
  {
   "cell_type": "code",
   "execution_count": 30,
   "metadata": {},
   "outputs": [],
   "source": [
    "# calc ground speed\n",
    "trips[ \"speed_mph\" ] = trips.trip_distance / trips.trip_duration_mins * 60\n",
    "if verbose: print( trips.speed_mph.describe() )\n",
    "\n",
    "# remove ridiculous outliers\n",
    "# 1st, limit to less than 100mph\n",
    "## Calculate Ground Speedprint( len( trips ) )\n",
    "trips = trips[ trips.speed_mph < 100 ]\n",
    "## Calculate Ground Speedprint( len( trips ) )\n",
    "\n",
    "# 2nd: limit to 3 stdv\n",
    "mph_mean = trips.speed_mph.mean()\n",
    "mph_sd   = trips.speed_mph.std()\n",
    "\n",
    "# limit mph to w/in 3 stdv\n",
    "if verbose: print( len( trips[ trips.speed_mph > mph_mean + 3 * mph_sd ] ) )\n",
    "trips = trips[ trips.speed_mph <= mph_mean + 3 * mph_sd ]\n",
    "if verbose: print( len( trips[ trips.speed_mph > mph_mean + 3 * mph_sd ] ) )\n",
    "\n",
    "if verbose: print( trips.speed_mph.describe() )"
   ]
  },
  {
   "cell_type": "code",
   "execution_count": 31,
   "metadata": {},
   "outputs": [],
   "source": [
    "# After bounding trip durations, are trip distances reasonable?\n",
    "if verbose: print( trips.trip_distance.describe() )"
   ]
  },
  {
   "cell_type": "markdown",
   "metadata": {},
   "source": [
    "## Payment Types"
   ]
  },
  {
   "cell_type": "code",
   "execution_count": 32,
   "metadata": {},
   "outputs": [],
   "source": [
    "# take a look at payment types: exploratory work in R showed that payment type affects *recorded* \n",
    "# tips: credit card tips avg ~20%, cash ~0%\n",
    "trips[ \"credit_card\" ] = trips.payment_type == 1\n",
    "if verbose: print( trips.credit_card.describe() )\n",
    "\n",
    "# tips: credit card tips avg ~20%, cash ~0%\n",
    "trips[ \"cash\" ] = trips.payment_type == 2\n",
    "if verbose: print( trips.cash.describe() )\n",
    "    \n",
    "# add flag for whether they'll tip or not, based on observation above\n",
    "trips[ \"tip_recorded\" ] = trips.tip_amount > 0\n",
    "if verbose: print( trips.tip_recorded.describe() )"
   ]
  },
  {
   "cell_type": "markdown",
   "metadata": {},
   "source": [
    "## Calculate Trip Bearing"
   ]
  },
  {
   "cell_type": "code",
   "execution_count": 33,
   "metadata": {},
   "outputs": [],
   "source": [
    "# From: https://gist.github.com/jeromer/2005586\n",
    "def calculate_initial_compass_bearing( pointA, pointB ):\n",
    "    \"\"\"\n",
    "    Calculates the bearing between two points.\n",
    "    The formulae used is the following:\n",
    "        θ = atan2(sin(Δlong).cos(lat2),\n",
    "                  cos(lat1).sin(lat2) − sin(lat1).cos(lat2).cos(Δlong))\n",
    "    :Parameters:\n",
    "      - `pointA: The tuple representing the latitude/longitude for the\n",
    "        first point. Latitude and longitude must be in decimal degrees\n",
    "      - `pointB: The tuple representing the latitude/longitude for the\n",
    "        second point. Latitude and longitude must be in decimal degrees\n",
    "    :Returns:\n",
    "      The bearing in degrees\n",
    "    :Returns Type:\n",
    "      float\n",
    "    \"\"\"\n",
    "    if (type(pointA) != tuple) or (type(pointB) != tuple):\n",
    "        raise TypeError(\"Only tuples are supported as arguments\")\n",
    "\n",
    "    lat1 = math.radians(pointA[0])\n",
    "    lat2 = math.radians(pointB[0])\n",
    "\n",
    "    diffLong = math.radians(pointB[1] - pointA[1])\n",
    "\n",
    "    x = math.sin(diffLong) * math.cos(lat2)\n",
    "    y = math.cos(lat1) * math.sin(lat2) - (math.sin(lat1)\n",
    "            * math.cos(lat2) * math.cos(diffLong))\n",
    "\n",
    "    initial_bearing = math.atan2(x, y)\n",
    "\n",
    "    # Now we have the initial bearing but math.atan2 return values\n",
    "    # from -180° to + 180° which is not what we want for a compass bearing\n",
    "    # The solution is to normalize the initial bearing as shown below\n",
    "    initial_bearing = math.degrees(initial_bearing)\n",
    "    compass_bearing = (initial_bearing + 360) % 360\n",
    "\n",
    "    return compass_bearing"
   ]
  },
  {
   "cell_type": "markdown",
   "metadata": {},
   "source": [
    "## Test Bearings"
   ]
  },
  {
   "cell_type": "code",
   "execution_count": 34,
   "metadata": {},
   "outputs": [
    {
     "name": "stdout",
     "output_type": "stream",
     "text": [
      "51.24333015092952\n",
      "233.18437158882222\n"
     ]
    }
   ],
   "source": [
    "# get bearing between dc and nyc: https://www.distancefromto.net/distance-from-washington-d-c-to-new-york\n",
    "dc = ( 38.90719, -77.03687 )\n",
    "nyc = ( 40.71278, -74.00594 )\n",
    "print( calculate_initial_compass_bearing( dc, nyc ) )\n",
    "print( calculate_initial_compass_bearing( nyc, dc ) )"
   ]
  },
  {
   "cell_type": "markdown",
   "metadata": {},
   "source": [
    "## Create Wrapper for Calculating Bearing from Pickup to Dropoff Lat/Lons"
   ]
  },
  {
   "cell_type": "code",
   "execution_count": 35,
   "metadata": {},
   "outputs": [],
   "source": [
    "def get_bearing( row ):\n",
    "    \n",
    "    pickup = ( row.pickup_latitude, row.pickup_longitude )\n",
    "    dropoff = ( row.dropoff_latitude, row.dropoff_longitude )\n",
    "    \n",
    "    return calculate_initial_compass_bearing( pickup, dropoff )"
   ]
  },
  {
   "cell_type": "code",
   "execution_count": 36,
   "metadata": {},
   "outputs": [
    {
     "name": "stdout",
     "output_type": "stream",
     "text": [
      "2018.06.01 15:32\n",
      "2018.06.01 15:33\n",
      "Time to process: [44.559367179870605] seconds\n"
     ]
    }
   ],
   "source": [
    "start_time = get_time()\n",
    "trips[ \"pickup_bearing\" ] = trips.apply( get_bearing, axis=1 )\n",
    "print_time( start_time, get_time()  )"
   ]
  },
  {
   "cell_type": "markdown",
   "metadata": {},
   "source": [
    "## Calculate This Taxi's Trip Speed w/ Other Taxis in This Day/Hour"
   ]
  },
  {
   "cell_type": "markdown",
   "metadata": {},
   "source": [
    "### First Calculate Mean MPG per Day/Hour"
   ]
  },
  {
   "cell_type": "code",
   "execution_count": 37,
   "metadata": {},
   "outputs": [
    {
     "data": {
      "text/plain": [
       "10.258393447357737"
      ]
     },
     "execution_count": 37,
     "metadata": {},
     "output_type": "execute_result"
    }
   ],
   "source": [
    "# build lookup table for mph by day and hour, takes advantage of Panda's indexing of group_by indexing.\n",
    "trips_mph_day_n_hour_grp = trips.groupby( [ \"pickup_day_of_week\", \"pickup_hour\" ] )\n",
    "trips_mph_day_n_hour = trips_mph_day_n_hour_grp[ \"speed_mph\" ].mean()\n",
    "\n",
    "def get_mph( day, hour ):\n",
    "    \n",
    "    return trips_mph_day_n_hour[ day ][ hour ]\n",
    "\n",
    "now = datetime.datetime.now()\n",
    "get_mph( now.weekday(), now.hour )"
   ]
  },
  {
   "cell_type": "markdown",
   "metadata": {},
   "source": [
    "### Add Peers MPH Means Field"
   ]
  },
  {
   "cell_type": "code",
   "execution_count": 38,
   "metadata": {},
   "outputs": [],
   "source": [
    "def get_mph_wrapper( row ):\n",
    "    \n",
    "    return get_mph( ( row.pickup_day_of_week ), ( row.pickup_hour ) )"
   ]
  },
  {
   "cell_type": "code",
   "execution_count": 39,
   "metadata": {},
   "outputs": [
    {
     "name": "stdout",
     "output_type": "stream",
     "text": [
      "2018.06.01 15:33\n",
      "2018.06.01 15:37\n",
      "Time to process: [225.16400384902954] seconds\n"
     ]
    }
   ],
   "source": [
    "start_time = get_time()\n",
    "trips[ \"peer_mean_mph\" ] = trips.apply( get_mph_wrapper, axis=1 )\n",
    "print_time( start_time, get_time()  )"
   ]
  },
  {
   "cell_type": "code",
   "execution_count": 40,
   "metadata": {},
   "outputs": [
    {
     "name": "stdout",
     "output_type": "stream",
     "text": [
      "2018.06.01 15:37\n",
      "2018.06.01 15:37\n",
      "Time to process: [0.0034067630767822266] seconds\n"
     ]
    }
   ],
   "source": [
    "start_time = get_time()\n",
    "trips[ \"peer_mph_delta\" ] = trips.speed_mph - trips.peer_mean_mph\n",
    "print_time( start_time, get_time()  )"
   ]
  },
  {
   "cell_type": "code",
   "execution_count": 41,
   "metadata": {},
   "outputs": [],
   "source": [
    "#trips.head()"
   ]
  },
  {
   "cell_type": "markdown",
   "metadata": {},
   "source": [
    "## Create Lat/Lon, MPH and Tip Bins"
   ]
  },
  {
   "cell_type": "code",
   "execution_count": 42,
   "metadata": {},
   "outputs": [],
   "source": [
    "# 2 points of lat/lon precision ~ 3/4 mile bins\n",
    "trips[ \"pickup_latitude_bin_2\" ] = round( trips.pickup_latitude, 2 )\n",
    "trips[ \"pickup_longitude_bin_2\" ] = round( trips.pickup_longitude, 2 )\n",
    "\n",
    "trips[ \"dropoff_latitude_bin_2\" ] = round( trips.dropoff_latitude, 2 )\n",
    "trips[ \"dropoff_longitude_bin_2\" ] = round( trips.dropoff_longitude, 2 )\n",
    "\n",
    "trips[ \"tip_percent_bin\" ] = round( trips.tip_percent, 0 )\n",
    "trips[ \"speed_mph_bin\" ] = round( trips.speed_mph, 0 )\n",
    "trips[ \"trip_distance_bin\" ] = round( trips.trip_distance, 0 )\n",
    "\n",
    "# create wrapper\n",
    "rows = trips.shape[ 0 ]"
   ]
  },
  {
   "cell_type": "code",
   "execution_count": 43,
   "metadata": {},
   "outputs": [],
   "source": [
    "# create a distance frequency lookup table\n",
    "distance_summary = trips.trip_distance_bin.value_counts()#.reset_index()\n",
    "#distance_summary.sort_values( by=[ 'index' ], inplace=True )\n",
    "#print( distance_summary )\n",
    "\n",
    "def get_distance_frequency( row ):\n",
    "    \n",
    "    return distance_summary[ ( row.trip_distance_bin ) ] / rows\n",
    " "
   ]
  },
  {
   "cell_type": "code",
   "execution_count": 44,
   "metadata": {},
   "outputs": [
    {
     "name": "stdout",
     "output_type": "stream",
     "text": [
      "2018.06.01 15:37\n",
      "2018.06.01 15:37\n",
      "Time to process: [32.95541477203369] seconds\n"
     ]
    }
   ],
   "source": [
    "start_time = get_time()\n",
    "trips[ \"distance_frequency\" ] = trips.apply( get_distance_frequency, axis=1 )\n",
    "print_time( start_time, get_time() )"
   ]
  },
  {
   "cell_type": "code",
   "execution_count": null,
   "metadata": {},
   "outputs": [],
   "source": []
  },
  {
   "cell_type": "code",
   "execution_count": 45,
   "metadata": {},
   "outputs": [],
   "source": [
    "# create a mph frequency lookup table\n",
    "mph_summary = trips.speed_mph_bin.value_counts()#.reset_index()\n",
    "# mph_summary.sort_values( by=[ 'index'], inplace=True )\n",
    "# print( mph_summary )\n",
    "\n",
    "# create wrapper\n",
    "rows = trips.shape[ 0 ]\n",
    "\n",
    "def get_mph_frequency( row ):\n",
    "    \n",
    "    return mph_summary[ ( row.speed_mph_bin ) ] / rows"
   ]
  },
  {
   "cell_type": "code",
   "execution_count": 46,
   "metadata": {},
   "outputs": [
    {
     "name": "stdout",
     "output_type": "stream",
     "text": [
      "2018.06.01 15:37\n",
      "2018.06.01 15:38\n",
      "Time to process: [33.216843366622925] seconds\n"
     ]
    }
   ],
   "source": [
    "start_time = get_time()\n",
    "trips[ \"mph_frequency\" ] = trips.apply( get_mph_frequency, axis=1 )\n",
    "print_time( start_time, get_time() )"
   ]
  },
  {
   "cell_type": "code",
   "execution_count": 47,
   "metadata": {},
   "outputs": [
    {
     "data": {
      "text/plain": [
       "869517"
      ]
     },
     "execution_count": 47,
     "metadata": {},
     "output_type": "execute_result"
    }
   ],
   "source": [
    "# create a frequency lookup table\n",
    "tip_summary = trips.tip_percent_bin.value_counts()#.reset_index()\n",
    "# tip_summary.sort_values( by=[ 'index'], inplace=True )\n",
    "tip_summary[ 0 ]"
   ]
  },
  {
   "cell_type": "code",
   "execution_count": 48,
   "metadata": {},
   "outputs": [
    {
     "data": {
      "text/plain": [
       "<matplotlib.axes._subplots.AxesSubplot at 0x7f08ec646550>"
      ]
     },
     "execution_count": 48,
     "metadata": {},
     "output_type": "execute_result"
    }
   ],
   "source": [
    "# Pandas provides quick plots\n",
    "trips.tip_percent_bin.plot.hist( bins=50, figsize=( 10, 6 ), grid=True )"
   ]
  },
  {
   "cell_type": "code",
   "execution_count": 49,
   "metadata": {},
   "outputs": [
    {
     "data": {
      "text/plain": [
       "1455831"
      ]
     },
     "execution_count": 49,
     "metadata": {},
     "output_type": "execute_result"
    }
   ],
   "source": [
    "# create wrapper\n",
    "rows = trips.shape[ 0 ]\n",
    "\n",
    "def get_tip_frequency( row ):\n",
    "    \n",
    "    return tip_summary[ ( row.tip_percent_bin ) ] / rows\n",
    "\n",
    "rows"
   ]
  },
  {
   "cell_type": "markdown",
   "metadata": {},
   "source": [
    "## Write Intermediate Results w/o Mean Encoding to CSV"
   ]
  },
  {
   "cell_type": "code",
   "execution_count": 56,
   "metadata": {},
   "outputs": [
    {
     "name": "stdout",
     "output_type": "stream",
     "text": [
      "2018.06.01 17:03\n",
      "2018.06.01 17:05\n",
      "Time to process: [68.31705808639526] seconds\n"
     ]
    }
   ],
   "source": [
    "start_time = get_time()\n",
    "trips.to_csv( \"data/green-tripdata-2015-09-cleaned.csv\", compression=\"gzip\", index=False )\n",
    "print_time( start_time, get_time() )"
   ]
  },
  {
   "cell_type": "markdown",
   "metadata": {},
   "source": [
    "## Time to Process Basic Cleanup & Features"
   ]
  },
  {
   "cell_type": "code",
   "execution_count": 51,
   "metadata": {},
   "outputs": [
    {
     "name": "stdout",
     "output_type": "stream",
     "text": [
      "2018.06.01 15:38\n",
      "Time to process: [381.4318516254425] seconds\n"
     ]
    }
   ],
   "source": [
    "print_time( page_start, get_time() )"
   ]
  }
 ],
 "metadata": {
  "kernelspec": {
   "display_name": "Python 3",
   "language": "python",
   "name": "python3"
  },
  "language_info": {
   "codemirror_mode": {
    "name": "ipython",
    "version": 3
   },
   "file_extension": ".py",
   "mimetype": "text/x-python",
   "name": "python",
   "nbconvert_exporter": "python",
   "pygments_lexer": "ipython3",
   "version": "3.6.4"
  }
 },
 "nbformat": 4,
 "nbformat_minor": 2
}
