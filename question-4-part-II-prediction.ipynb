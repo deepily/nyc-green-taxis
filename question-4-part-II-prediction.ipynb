{
 "cells": [
  {
   "cell_type": "markdown",
   "metadata": {},
   "source": [
    "# Tip Prediction, Part II: Features & Predictions"
   ]
  },
  {
   "cell_type": "markdown",
   "metadata": {},
   "source": [
    "Author's Workday ID: C175799, Initials: RPR"
   ]
  },
  {
   "cell_type": "markdown",
   "metadata": {},
   "source": [
    "## Choose GPU"
   ]
  },
  {
   "cell_type": "code",
   "execution_count": 1,
   "metadata": {},
   "outputs": [
    {
     "name": "stdout",
     "output_type": "stream",
     "text": [
      "Select GPU [0 or 1]: 1\n"
     ]
    }
   ],
   "source": [
    "# From: https://github.com/keras-team/keras/issues/6031\n",
    "import os\n",
    "gpu_id = input( \"Select GPU [0 or 1]: \" )\n",
    "\n",
    "if gpu_id in [ \"0\", \"1\" ]:\n",
    "    os.environ[ \"CUDA_VISIBLE_DEVICES\" ] = gpu_id\n",
    "else:\n",
    "    print( \"Invalid GPU id.  Defaulting to '0,1'\" )"
   ]
  },
  {
   "cell_type": "markdown",
   "metadata": {},
   "source": [
    "## Choose CPU Cores"
   ]
  },
  {
   "cell_type": "code",
   "execution_count": 2,
   "metadata": {},
   "outputs": [
    {
     "name": "stdout",
     "output_type": "stream",
     "text": [
      "Share CPU cores w/ other models? [y/n]: y\n",
      "Allocating 6 cores to this notebook\n"
     ]
    },
    {
     "name": "stderr",
     "output_type": "stream",
     "text": [
      "Using TensorFlow backend.\n"
     ]
    }
   ],
   "source": [
    "cores = 12\n",
    "share_cores = input( \"Share CPU cores w/ other models? [y/n]: \" )\n",
    "\n",
    "if share_cores == \"y\":\n",
    "    \n",
    "    cores = int( cores / 2 )\n",
    "\n",
    "print( \"Allocating %d cores to this notebook\" % cores )\n",
    "\n",
    "# From: https://stackoverflow.com/questions/46421258/limit-number-of-cores-used-in-keras\n",
    "\n",
    "from keras import backend as K\n",
    "K.set_session(\n",
    "    K.tf.Session(\n",
    "        config=K.tf.ConfigProto(\n",
    "            intra_op_parallelism_threads=cores, inter_op_parallelism_threads=cores \n",
    "        )\n",
    "    )\n",
    ")"
   ]
  },
  {
   "cell_type": "markdown",
   "metadata": {},
   "source": [
    "## Imports and Util Functions"
   ]
  },
  {
   "cell_type": "code",
   "execution_count": 3,
   "metadata": {},
   "outputs": [
    {
     "name": "stdout",
     "output_type": "stream",
     "text": [
      "2018.06.03 14:37\n",
      "Time to process: [1] seconds\n"
     ]
    }
   ],
   "source": [
    "import numpy as np\n",
    "import pandas as pd\n",
    "import xgboost as xgb\n",
    "import lightgbm as lgb\n",
    "import time\n",
    "import datetime\n",
    "from math import sqrt\n",
    "import pickle\n",
    "\n",
    "from sklearn.model_selection import train_test_split\n",
    "from sklearn.metrics import mean_squared_error, accuracy_score, r2_score\n",
    "\n",
    "from math import sqrt\n",
    "\n",
    "from matplotlib import pyplot as plt\n",
    "%matplotlib inline\n",
    "\n",
    "# My local install of jupyter notebook has broken matplotlib notebook and inline image rendering. Fix later! \n",
    "# from matplotlib import figure\n",
    "# f = figure.Figure( figsize=( 10, 6 ) )\n",
    "# #plt.figure( figsize=( 10, 6 ) )\n",
    "\n",
    "cores = 12\n",
    "\n",
    "def get_time( output=True ):\n",
    "    \n",
    "    temp = time.time()\n",
    "    if output:\n",
    "        now = datetime.datetime.now()\n",
    "        print( now.strftime( \"%Y.%m.%d %H:%M\" ) )\n",
    "        \n",
    "    return temp\n",
    "\n",
    "foo = get_time()\n",
    "\n",
    "def print_time( start_time, end_time, interval=\"seconds\" ):\n",
    "    \n",
    "    if interval == \"hours\":\n",
    "        print ( \"Time to process: [%s] hours\" % ( str( ( end_time - start_time ) / 60 / 60 ) ) )\n",
    "    elif interval == \"minutes\":\n",
    "        print ( \"Time to process: [%s] minutes\" % ( str( ( end_time - start_time ) / 60 ) ) )\n",
    "    else:\n",
    "        print ( \"Time to process: [%s] seconds\" % ( str( end_time - start_time ) ) )\n",
    "\n",
    "print_time( 0, 1 )"
   ]
  },
  {
   "cell_type": "markdown",
   "metadata": {},
   "source": [
    "## Load Pre-Cleaned Data"
   ]
  },
  {
   "cell_type": "code",
   "execution_count": 4,
   "metadata": {},
   "outputs": [
    {
     "name": "stdout",
     "output_type": "stream",
     "text": [
      "2018.06.03 14:37\n",
      "2018.06.03 14:37\n",
      "Time to process: [3.191120147705078] seconds\n"
     ]
    },
    {
     "data": {
      "text/html": [
       "<div>\n",
       "<style scoped>\n",
       "    .dataframe tbody tr th:only-of-type {\n",
       "        vertical-align: middle;\n",
       "    }\n",
       "\n",
       "    .dataframe tbody tr th {\n",
       "        vertical-align: top;\n",
       "    }\n",
       "\n",
       "    .dataframe thead th {\n",
       "        text-align: right;\n",
       "    }\n",
       "</style>\n",
       "<table border=\"1\" class=\"dataframe\">\n",
       "  <thead>\n",
       "    <tr style=\"text-align: right;\">\n",
       "      <th></th>\n",
       "      <th>vendorid</th>\n",
       "      <th>store_and_fwd_flag</th>\n",
       "      <th>ratecodeid</th>\n",
       "      <th>pickup_longitude</th>\n",
       "      <th>pickup_latitude</th>\n",
       "      <th>dropoff_longitude</th>\n",
       "      <th>dropoff_latitude</th>\n",
       "      <th>passenger_count</th>\n",
       "      <th>trip_distance</th>\n",
       "      <th>fare_amount</th>\n",
       "      <th>...</th>\n",
       "      <th>payment_type_tip_bin_125_enc</th>\n",
       "      <th>ratecode_tip_bin_125_enc</th>\n",
       "      <th>payment_type_tip_bin_126_enc</th>\n",
       "      <th>ratecode_tip_bin_126_enc</th>\n",
       "      <th>payment_type_tip_bin_127_enc</th>\n",
       "      <th>ratecode_tip_bin_127_enc</th>\n",
       "      <th>payment_type_tip_bin_128_enc</th>\n",
       "      <th>ratecode_tip_bin_128_enc</th>\n",
       "      <th>payment_type_tip_bin_129_enc</th>\n",
       "      <th>ratecode_tip_bin_129_enc</th>\n",
       "    </tr>\n",
       "  </thead>\n",
       "  <tbody>\n",
       "    <tr>\n",
       "      <th>0</th>\n",
       "      <td>2</td>\n",
       "      <td>False</td>\n",
       "      <td>5</td>\n",
       "      <td>-73.979485</td>\n",
       "      <td>40.684956</td>\n",
       "      <td>-73.979431</td>\n",
       "      <td>40.685020</td>\n",
       "      <td>1</td>\n",
       "      <td>0.00</td>\n",
       "      <td>7.8</td>\n",
       "      <td>...</td>\n",
       "      <td>0.000086</td>\n",
       "      <td>0.000000</td>\n",
       "      <td>0.000006</td>\n",
       "      <td>0.000000</td>\n",
       "      <td>0.000013</td>\n",
       "      <td>0.000000</td>\n",
       "      <td>0.000016</td>\n",
       "      <td>0.000000</td>\n",
       "      <td>0.000019</td>\n",
       "      <td>0.000000</td>\n",
       "    </tr>\n",
       "    <tr>\n",
       "      <th>1</th>\n",
       "      <td>2</td>\n",
       "      <td>False</td>\n",
       "      <td>5</td>\n",
       "      <td>-74.010796</td>\n",
       "      <td>40.912216</td>\n",
       "      <td>-74.010780</td>\n",
       "      <td>40.912212</td>\n",
       "      <td>1</td>\n",
       "      <td>0.00</td>\n",
       "      <td>45.0</td>\n",
       "      <td>...</td>\n",
       "      <td>0.000086</td>\n",
       "      <td>0.000000</td>\n",
       "      <td>0.000006</td>\n",
       "      <td>0.000000</td>\n",
       "      <td>0.000013</td>\n",
       "      <td>0.000000</td>\n",
       "      <td>0.000016</td>\n",
       "      <td>0.000000</td>\n",
       "      <td>0.000019</td>\n",
       "      <td>0.000000</td>\n",
       "    </tr>\n",
       "    <tr>\n",
       "      <th>2</th>\n",
       "      <td>2</td>\n",
       "      <td>False</td>\n",
       "      <td>1</td>\n",
       "      <td>-73.921410</td>\n",
       "      <td>40.766708</td>\n",
       "      <td>-73.914413</td>\n",
       "      <td>40.764687</td>\n",
       "      <td>1</td>\n",
       "      <td>0.59</td>\n",
       "      <td>4.0</td>\n",
       "      <td>...</td>\n",
       "      <td>0.000086</td>\n",
       "      <td>0.000041</td>\n",
       "      <td>0.000006</td>\n",
       "      <td>0.000003</td>\n",
       "      <td>0.000013</td>\n",
       "      <td>0.000006</td>\n",
       "      <td>0.000016</td>\n",
       "      <td>0.000008</td>\n",
       "      <td>0.000019</td>\n",
       "      <td>0.000009</td>\n",
       "    </tr>\n",
       "    <tr>\n",
       "      <th>3</th>\n",
       "      <td>2</td>\n",
       "      <td>False</td>\n",
       "      <td>1</td>\n",
       "      <td>-73.921387</td>\n",
       "      <td>40.766678</td>\n",
       "      <td>-73.931427</td>\n",
       "      <td>40.771584</td>\n",
       "      <td>1</td>\n",
       "      <td>0.74</td>\n",
       "      <td>5.0</td>\n",
       "      <td>...</td>\n",
       "      <td>0.000000</td>\n",
       "      <td>0.000041</td>\n",
       "      <td>0.000000</td>\n",
       "      <td>0.000003</td>\n",
       "      <td>0.000000</td>\n",
       "      <td>0.000006</td>\n",
       "      <td>0.000000</td>\n",
       "      <td>0.000008</td>\n",
       "      <td>0.000000</td>\n",
       "      <td>0.000009</td>\n",
       "    </tr>\n",
       "    <tr>\n",
       "      <th>4</th>\n",
       "      <td>2</td>\n",
       "      <td>False</td>\n",
       "      <td>1</td>\n",
       "      <td>-73.955482</td>\n",
       "      <td>40.714046</td>\n",
       "      <td>-73.944412</td>\n",
       "      <td>40.714729</td>\n",
       "      <td>1</td>\n",
       "      <td>0.61</td>\n",
       "      <td>5.0</td>\n",
       "      <td>...</td>\n",
       "      <td>0.000000</td>\n",
       "      <td>0.000041</td>\n",
       "      <td>0.000000</td>\n",
       "      <td>0.000003</td>\n",
       "      <td>0.000000</td>\n",
       "      <td>0.000006</td>\n",
       "      <td>0.000000</td>\n",
       "      <td>0.000008</td>\n",
       "      <td>0.000000</td>\n",
       "      <td>0.000009</td>\n",
       "    </tr>\n",
       "  </tbody>\n",
       "</table>\n",
       "<p>5 rows × 305 columns</p>\n",
       "</div>"
      ],
      "text/plain": [
       "   vendorid  store_and_fwd_flag  ratecodeid  pickup_longitude  \\\n",
       "0         2               False           5        -73.979485   \n",
       "1         2               False           5        -74.010796   \n",
       "2         2               False           1        -73.921410   \n",
       "3         2               False           1        -73.921387   \n",
       "4         2               False           1        -73.955482   \n",
       "\n",
       "   pickup_latitude  dropoff_longitude  dropoff_latitude  passenger_count  \\\n",
       "0        40.684956         -73.979431         40.685020                1   \n",
       "1        40.912216         -74.010780         40.912212                1   \n",
       "2        40.766708         -73.914413         40.764687                1   \n",
       "3        40.766678         -73.931427         40.771584                1   \n",
       "4        40.714046         -73.944412         40.714729                1   \n",
       "\n",
       "   trip_distance  fare_amount            ...             \\\n",
       "0           0.00          7.8            ...              \n",
       "1           0.00         45.0            ...              \n",
       "2           0.59          4.0            ...              \n",
       "3           0.74          5.0            ...              \n",
       "4           0.61          5.0            ...              \n",
       "\n",
       "   payment_type_tip_bin_125_enc  ratecode_tip_bin_125_enc  \\\n",
       "0                      0.000086                  0.000000   \n",
       "1                      0.000086                  0.000000   \n",
       "2                      0.000086                  0.000041   \n",
       "3                      0.000000                  0.000041   \n",
       "4                      0.000000                  0.000041   \n",
       "\n",
       "   payment_type_tip_bin_126_enc  ratecode_tip_bin_126_enc  \\\n",
       "0                      0.000006                  0.000000   \n",
       "1                      0.000006                  0.000000   \n",
       "2                      0.000006                  0.000003   \n",
       "3                      0.000000                  0.000003   \n",
       "4                      0.000000                  0.000003   \n",
       "\n",
       "   payment_type_tip_bin_127_enc  ratecode_tip_bin_127_enc  \\\n",
       "0                      0.000013                  0.000000   \n",
       "1                      0.000013                  0.000000   \n",
       "2                      0.000013                  0.000006   \n",
       "3                      0.000000                  0.000006   \n",
       "4                      0.000000                  0.000006   \n",
       "\n",
       "   payment_type_tip_bin_128_enc  ratecode_tip_bin_128_enc  \\\n",
       "0                      0.000016                  0.000000   \n",
       "1                      0.000016                  0.000000   \n",
       "2                      0.000016                  0.000008   \n",
       "3                      0.000000                  0.000008   \n",
       "4                      0.000000                  0.000008   \n",
       "\n",
       "   payment_type_tip_bin_129_enc  ratecode_tip_bin_129_enc  \n",
       "0                      0.000019                  0.000000  \n",
       "1                      0.000019                  0.000000  \n",
       "2                      0.000019                  0.000009  \n",
       "3                      0.000000                  0.000009  \n",
       "4                      0.000000                  0.000009  \n",
       "\n",
       "[5 rows x 305 columns]"
      ]
     },
     "execution_count": 4,
     "metadata": {},
     "output_type": "execute_result"
    }
   ],
   "source": [
    "page_start = get_time()\n",
    "#trips = pd.read_csv( \"data/green-tripdata-2015-09-cleaned.csv\", compression=\"gzip\" )\n",
    "trips = pd.read_parquet( \"data/green-tripdata-2015-09-cleaned-plus-experimental-features.parquet\" )\n",
    "print_time( page_start, get_time() )\n",
    "trips.head()"
   ]
  },
  {
   "cell_type": "code",
   "execution_count": null,
   "metadata": {},
   "outputs": [],
   "source": []
  },
  {
   "cell_type": "markdown",
   "metadata": {},
   "source": [
    "## Will Taxis Record a Tip or Not?"
   ]
  },
  {
   "cell_type": "code",
   "execution_count": 10,
   "metadata": {},
   "outputs": [],
   "source": [
    "# create train & test sets: omit any mention of tips other than y value: 'tip_recorded'\n",
    "X_tips = trips.drop( columns=[ \"tip_amount\", \"tip_percent\", \"total_amount\", \"tip_recorded\", \"tip_percent_bin\" ] )\n",
    "y_tips = trips.tip_recorded\n",
    "\n",
    "seed = 42\n",
    "\n",
    "X_tips_train, X_tips_test, y_tips_train, y_tips_test = train_test_split( X_tips, y_tips, random_state=seed )\n",
    "eval_set = [ ( X_tips_test, y_tips_test ) ]"
   ]
  },
  {
   "cell_type": "markdown",
   "metadata": {},
   "source": [
    "## Build XGBoost Model, Run on GPU"
   ]
  },
  {
   "cell_type": "code",
   "execution_count": 11,
   "metadata": {},
   "outputs": [
    {
     "name": "stdout",
     "output_type": "stream",
     "text": [
      "2018.06.01 17:25\n",
      "[0]\tvalidation_0-error:0.064007\n",
      "Will train until validation_0-error hasn't improved in 50 rounds.\n",
      "[1]\tvalidation_0-error:0.063636\n",
      "[2]\tvalidation_0-error:0.063425\n",
      "[3]\tvalidation_0-error:0.063364\n",
      "[4]\tvalidation_0-error:0.063353\n",
      "[5]\tvalidation_0-error:0.063304\n",
      "[6]\tvalidation_0-error:0.063211\n",
      "[7]\tvalidation_0-error:0.063227\n",
      "[8]\tvalidation_0-error:0.063222\n",
      "[9]\tvalidation_0-error:0.063211\n",
      "[10]\tvalidation_0-error:0.063246\n",
      "[11]\tvalidation_0-error:0.063288\n",
      "[12]\tvalidation_0-error:0.063227\n",
      "[13]\tvalidation_0-error:0.063244\n",
      "[14]\tvalidation_0-error:0.063252\n",
      "[15]\tvalidation_0-error:0.063186\n",
      "[16]\tvalidation_0-error:0.063249\n",
      "[17]\tvalidation_0-error:0.063241\n",
      "[18]\tvalidation_0-error:0.063233\n",
      "[19]\tvalidation_0-error:0.063249\n",
      "[20]\tvalidation_0-error:0.063235\n",
      "[21]\tvalidation_0-error:0.063211\n",
      "[22]\tvalidation_0-error:0.063238\n",
      "[23]\tvalidation_0-error:0.063249\n",
      "[24]\tvalidation_0-error:0.063175\n",
      "[25]\tvalidation_0-error:0.063172\n",
      "[26]\tvalidation_0-error:0.063142\n",
      "[27]\tvalidation_0-error:0.063147\n",
      "[28]\tvalidation_0-error:0.063112\n",
      "[29]\tvalidation_0-error:0.063158\n",
      "[30]\tvalidation_0-error:0.063145\n",
      "[31]\tvalidation_0-error:0.063156\n",
      "[32]\tvalidation_0-error:0.063178\n",
      "[33]\tvalidation_0-error:0.06315\n",
      "[34]\tvalidation_0-error:0.063106\n",
      "[35]\tvalidation_0-error:0.063112\n",
      "[36]\tvalidation_0-error:0.063134\n",
      "[37]\tvalidation_0-error:0.063142\n",
      "[38]\tvalidation_0-error:0.063103\n",
      "[39]\tvalidation_0-error:0.063123\n",
      "[40]\tvalidation_0-error:0.06309\n",
      "[41]\tvalidation_0-error:0.063092\n",
      "[42]\tvalidation_0-error:0.063103\n",
      "[43]\tvalidation_0-error:0.063092\n",
      "[44]\tvalidation_0-error:0.063103\n",
      "[45]\tvalidation_0-error:0.063068\n",
      "[46]\tvalidation_0-error:0.06309\n",
      "[47]\tvalidation_0-error:0.063079\n",
      "[48]\tvalidation_0-error:0.063092\n",
      "[49]\tvalidation_0-error:0.063068\n",
      "[50]\tvalidation_0-error:0.063062\n",
      "[51]\tvalidation_0-error:0.063062\n",
      "[52]\tvalidation_0-error:0.063059\n",
      "[53]\tvalidation_0-error:0.063051\n",
      "[54]\tvalidation_0-error:0.063065\n",
      "[55]\tvalidation_0-error:0.06307\n",
      "[56]\tvalidation_0-error:0.063054\n",
      "[57]\tvalidation_0-error:0.063043\n",
      "[58]\tvalidation_0-error:0.063057\n",
      "[59]\tvalidation_0-error:0.063057\n",
      "[60]\tvalidation_0-error:0.063046\n",
      "[61]\tvalidation_0-error:0.063027\n",
      "[62]\tvalidation_0-error:0.063046\n",
      "[63]\tvalidation_0-error:0.06307\n",
      "[64]\tvalidation_0-error:0.063087\n",
      "[65]\tvalidation_0-error:0.063112\n",
      "[66]\tvalidation_0-error:0.063112\n",
      "[67]\tvalidation_0-error:0.063098\n",
      "[68]\tvalidation_0-error:0.063125\n",
      "[69]\tvalidation_0-error:0.063101\n",
      "[70]\tvalidation_0-error:0.063103\n",
      "[71]\tvalidation_0-error:0.063106\n",
      "[72]\tvalidation_0-error:0.06309\n",
      "[73]\tvalidation_0-error:0.06307\n",
      "[74]\tvalidation_0-error:0.063059\n",
      "[75]\tvalidation_0-error:0.063079\n",
      "[76]\tvalidation_0-error:0.063081\n",
      "[77]\tvalidation_0-error:0.063095\n",
      "[78]\tvalidation_0-error:0.063076\n",
      "[79]\tvalidation_0-error:0.063084\n",
      "[80]\tvalidation_0-error:0.06304\n",
      "[81]\tvalidation_0-error:0.063035\n",
      "[82]\tvalidation_0-error:0.06304\n",
      "[83]\tvalidation_0-error:0.063046\n",
      "[84]\tvalidation_0-error:0.063073\n",
      "[85]\tvalidation_0-error:0.063073\n",
      "[86]\tvalidation_0-error:0.063065\n",
      "[87]\tvalidation_0-error:0.063081\n",
      "[88]\tvalidation_0-error:0.063065\n",
      "[89]\tvalidation_0-error:0.063081\n",
      "[90]\tvalidation_0-error:0.063081\n",
      "[91]\tvalidation_0-error:0.063084\n",
      "[92]\tvalidation_0-error:0.063062\n",
      "[93]\tvalidation_0-error:0.063054\n",
      "[94]\tvalidation_0-error:0.063062\n",
      "[95]\tvalidation_0-error:0.063059\n",
      "[96]\tvalidation_0-error:0.063092\n",
      "[97]\tvalidation_0-error:0.063092\n",
      "[98]\tvalidation_0-error:0.063095\n",
      "[99]\tvalidation_0-error:0.063087\n",
      "[100]\tvalidation_0-error:0.063081\n",
      "[101]\tvalidation_0-error:0.063084\n",
      "[102]\tvalidation_0-error:0.063081\n",
      "[103]\tvalidation_0-error:0.063081\n",
      "[104]\tvalidation_0-error:0.06304\n",
      "[105]\tvalidation_0-error:0.063054\n",
      "[106]\tvalidation_0-error:0.063073\n",
      "[107]\tvalidation_0-error:0.063068\n",
      "[108]\tvalidation_0-error:0.063081\n",
      "[109]\tvalidation_0-error:0.063073\n",
      "[110]\tvalidation_0-error:0.06307\n",
      "[111]\tvalidation_0-error:0.063076\n",
      "Stopping. Best iteration:\n",
      "[61]\tvalidation_0-error:0.063027\n",
      "\n",
      "2018.06.01 17:26\n",
      "Time to process: [53.32380986213684] seconds\n"
     ]
    }
   ],
   "source": [
    "# TRAIN & CALC EARLY STOPPING BEST-ITERATION\n",
    "start_time = get_time()\n",
    "\n",
    "# 'gpu_hist' enables use of GPU\n",
    "# 'n_jobs' distributes CPU tasks across n available cores\n",
    "param = { \"objective\": \"binary:logistic\", \"tree_method\":\"gpu_hist\", \"silent\":False, \"max_depth\":10, \"n_estimators\":500, \"n_jobs\":cores }\n",
    "model_xgb_tip_recorded = xgb.XGBClassifier( **param )\n",
    "\n",
    "# set eval set & early stopping, no need to iterate beyond what's useful\n",
    "model_xgb_tip_recorded.fit( X_tips_train, y_tips_train, early_stopping_rounds=50, eval_set=eval_set, verbose=True, eval_metric=\"error\" )\n",
    "\n",
    "print_time( start_time, get_time() )\n",
    "\n",
    "# Stopping. Best iteration:\n",
    "# [59]\tvalidation_0-error:0.062914\n",
    "# w/ tons of mean encodings: 0.063027 :-("
   ]
  },
  {
   "cell_type": "markdown",
   "metadata": {},
   "source": [
    "## Get Accuracy for Tip/No Tip Predictions"
   ]
  },
  {
   "cell_type": "code",
   "execution_count": 12,
   "metadata": {},
   "outputs": [
    {
     "name": "stdout",
     "output_type": "stream",
     "text": [
      "Accuracy: 93.69%\n"
     ]
    }
   ],
   "source": [
    "# get stats for first model, using test dataset\n",
    "predictions_tip_recorded = model_xgb_tip_recorded.predict( X_tips_test )\n",
    "\n",
    "accuracy = accuracy_score( y_tips_test, predictions_tip_recorded )\n",
    "print( \"Accuracy: %.2f%%\" % ( accuracy * 100.0 ) )\n",
    "\n",
    "# Accuracy: 93.69%, before adding peer_mph, mph delta, and bearing\n",
    "# Accuracy: 93.69%, after adding peer_mph, mph delta, and bearing\n",
    "# Accuracy: 98.22%, after adding lat/lon bins + tip frequency (We can't include tip frequency, it's based on tip bin vals!)\n",
    "# Accuracy: 93.70%, after adding payment type mean target encoding\n"
   ]
  },
  {
   "cell_type": "code",
   "execution_count": 13,
   "metadata": {},
   "outputs": [
    {
     "data": {
      "text/plain": [
       "array([1, 0, 1, 1, 1, 0, 1, 0, 1, 1])"
      ]
     },
     "execution_count": 13,
     "metadata": {},
     "output_type": "execute_result"
    }
   ],
   "source": [
    "predictions_tip_recorded[ 0:10 ] * 1"
   ]
  },
  {
   "cell_type": "markdown",
   "metadata": {},
   "source": [
    "## Important Features for Predicting Whether Tip is Recorded or Not"
   ]
  },
  {
   "cell_type": "code",
   "execution_count": 14,
   "metadata": {},
   "outputs": [
    {
     "data": {
      "image/png": "[encoded data removed]",
      "text/plain": [
       "<matplotlib.figure.Figure at 0x7faffac51fd0>"
      ]
     },
     "metadata": {},
     "output_type": "display_data"
    }
   ],
   "source": [
    "# plot feature importance\n",
    "plt = xgb.plot_importance( model_xgb_tip_recorded )\n",
    "#print( type( plt ) )\n",
    "\n",
    "# FAIL!?!\n",
    "#fig = plt.gcf()\n",
    "# #fig.savefig('output.png')\n",
    "# fig.savefig( \"plots/tip-recorded-prediction-features-xgb.png\" )"
   ]
  },
  {
   "cell_type": "code",
   "execution_count": null,
   "metadata": {},
   "outputs": [],
   "source": []
  },
  {
   "cell_type": "markdown",
   "metadata": {},
   "source": [
    "## What Will Tip Be? Expressed as a Percentage"
   ]
  },
  {
   "cell_type": "code",
   "execution_count": 4,
   "metadata": {},
   "outputs": [],
   "source": [
    "# create train & test sets: omit tip or related values\n",
    "X_trips = trips.drop( columns=[ \"tip_percent\", \"tip_amount\", \"total_amount\", \"tip_percent_bin\" ] )\n",
    "y_trips = trips.tip_percent\n",
    "\n",
    "X_train, X_test, y_train, y_test = train_test_split( X_trips, y_trips, random_state=42 )\n",
    "eval_set = [ ( X_test, y_test ) ]"
   ]
  },
  {
   "cell_type": "markdown",
   "metadata": {},
   "source": [
    "## Build XGBoost Model, Run on GPU"
   ]
  },
  {
   "cell_type": "code",
   "execution_count": 5,
   "metadata": {},
   "outputs": [
    {
     "name": "stdout",
     "output_type": "stream",
     "text": [
      "2018.06.01 17:35\n",
      "[0]\tvalidation_0-rmse:13.5556\n",
      "Will train until validation_0-rmse hasn't improved in 50 rounds.\n",
      "[1]\tvalidation_0-rmse:12.3849\n",
      "[2]\tvalidation_0-rmse:11.3482\n",
      "[3]\tvalidation_0-rmse:10.4333\n",
      "[4]\tvalidation_0-rmse:9.62865\n",
      "[5]\tvalidation_0-rmse:8.92369\n",
      "[6]\tvalidation_0-rmse:8.30842\n",
      "[7]\tvalidation_0-rmse:7.77469\n",
      "[8]\tvalidation_0-rmse:7.31313\n",
      "[9]\tvalidation_0-rmse:6.91654\n",
      "[10]\tvalidation_0-rmse:6.57792\n",
      "[11]\tvalidation_0-rmse:6.29045\n",
      "[12]\tvalidation_0-rmse:6.04702\n",
      "[13]\tvalidation_0-rmse:5.84271\n",
      "[14]\tvalidation_0-rmse:5.67111\n",
      "[15]\tvalidation_0-rmse:5.52821\n",
      "[16]\tvalidation_0-rmse:5.40961\n",
      "[17]\tvalidation_0-rmse:5.31146\n",
      "[18]\tvalidation_0-rmse:5.23063\n",
      "[19]\tvalidation_0-rmse:5.16389\n",
      "[20]\tvalidation_0-rmse:5.10959\n",
      "[21]\tvalidation_0-rmse:5.06511\n",
      "[22]\tvalidation_0-rmse:5.02896\n",
      "[23]\tvalidation_0-rmse:4.99979\n",
      "[24]\tvalidation_0-rmse:4.97487\n",
      "[25]\tvalidation_0-rmse:4.95542\n",
      "[26]\tvalidation_0-rmse:4.93795\n",
      "[27]\tvalidation_0-rmse:4.92477\n",
      "[28]\tvalidation_0-rmse:4.91382\n",
      "[29]\tvalidation_0-rmse:4.90545\n",
      "[30]\tvalidation_0-rmse:4.89812\n",
      "[31]\tvalidation_0-rmse:4.89241\n",
      "[32]\tvalidation_0-rmse:4.88773\n",
      "[33]\tvalidation_0-rmse:4.88354\n",
      "[34]\tvalidation_0-rmse:4.88093\n",
      "[35]\tvalidation_0-rmse:4.8782\n",
      "[36]\tvalidation_0-rmse:4.87602\n",
      "[37]\tvalidation_0-rmse:4.8746\n",
      "[38]\tvalidation_0-rmse:4.87296\n",
      "[39]\tvalidation_0-rmse:4.87174\n",
      "[40]\tvalidation_0-rmse:4.87074\n",
      "[41]\tvalidation_0-rmse:4.8696\n",
      "[42]\tvalidation_0-rmse:4.86891\n",
      "[43]\tvalidation_0-rmse:4.86815\n",
      "[44]\tvalidation_0-rmse:4.8674\n",
      "[45]\tvalidation_0-rmse:4.86681\n",
      "[46]\tvalidation_0-rmse:4.86653\n",
      "[47]\tvalidation_0-rmse:4.86588\n",
      "[48]\tvalidation_0-rmse:4.86555\n",
      "[49]\tvalidation_0-rmse:4.86511\n",
      "[50]\tvalidation_0-rmse:4.8649\n",
      "[51]\tvalidation_0-rmse:4.8642\n",
      "[52]\tvalidation_0-rmse:4.8641\n",
      "[53]\tvalidation_0-rmse:4.86404\n",
      "[54]\tvalidation_0-rmse:4.8641\n",
      "[55]\tvalidation_0-rmse:4.86421\n",
      "[56]\tvalidation_0-rmse:4.86408\n",
      "[57]\tvalidation_0-rmse:4.86384\n",
      "[58]\tvalidation_0-rmse:4.86319\n",
      "[59]\tvalidation_0-rmse:4.86324\n",
      "[60]\tvalidation_0-rmse:4.86285\n",
      "[61]\tvalidation_0-rmse:4.86278\n",
      "[62]\tvalidation_0-rmse:4.86243\n",
      "[63]\tvalidation_0-rmse:4.86245\n",
      "[64]\tvalidation_0-rmse:4.8628\n",
      "[65]\tvalidation_0-rmse:4.8626\n",
      "[66]\tvalidation_0-rmse:4.86268\n",
      "[67]\tvalidation_0-rmse:4.86241\n",
      "[68]\tvalidation_0-rmse:4.86243\n",
      "[69]\tvalidation_0-rmse:4.86177\n",
      "[70]\tvalidation_0-rmse:4.8619\n",
      "[71]\tvalidation_0-rmse:4.86158\n",
      "[72]\tvalidation_0-rmse:4.86117\n",
      "[73]\tvalidation_0-rmse:4.86088\n",
      "[74]\tvalidation_0-rmse:4.8605\n",
      "[75]\tvalidation_0-rmse:4.86033\n",
      "[76]\tvalidation_0-rmse:4.8605\n",
      "[77]\tvalidation_0-rmse:4.85997\n",
      "[78]\tvalidation_0-rmse:4.85992\n",
      "[79]\tvalidation_0-rmse:4.86017\n",
      "[80]\tvalidation_0-rmse:4.85963\n",
      "[81]\tvalidation_0-rmse:4.85953\n",
      "[82]\tvalidation_0-rmse:4.85947\n",
      "[83]\tvalidation_0-rmse:4.85947\n",
      "[84]\tvalidation_0-rmse:4.8596\n",
      "[85]\tvalidation_0-rmse:4.85958\n",
      "[86]\tvalidation_0-rmse:4.85958\n",
      "[87]\tvalidation_0-rmse:4.85949\n",
      "[88]\tvalidation_0-rmse:4.8593\n",
      "[89]\tvalidation_0-rmse:4.85925\n",
      "[90]\tvalidation_0-rmse:4.85952\n",
      "[91]\tvalidation_0-rmse:4.85965\n",
      "[92]\tvalidation_0-rmse:4.85971\n",
      "[93]\tvalidation_0-rmse:4.85948\n",
      "[94]\tvalidation_0-rmse:4.85959\n",
      "[95]\tvalidation_0-rmse:4.85938\n",
      "[96]\tvalidation_0-rmse:4.8597\n",
      "[97]\tvalidation_0-rmse:4.85978\n",
      "[98]\tvalidation_0-rmse:4.8599\n",
      "[99]\tvalidation_0-rmse:4.85968\n",
      "[100]\tvalidation_0-rmse:4.85977\n",
      "[101]\tvalidation_0-rmse:4.85973\n",
      "[102]\tvalidation_0-rmse:4.85995\n",
      "[103]\tvalidation_0-rmse:4.86001\n",
      "[104]\tvalidation_0-rmse:4.86006\n",
      "[105]\tvalidation_0-rmse:4.86012\n",
      "[106]\tvalidation_0-rmse:4.86024\n",
      "[107]\tvalidation_0-rmse:4.86017\n",
      "[108]\tvalidation_0-rmse:4.86004\n",
      "[109]\tvalidation_0-rmse:4.86014\n",
      "[110]\tvalidation_0-rmse:4.86022\n",
      "[111]\tvalidation_0-rmse:4.85998\n",
      "[112]\tvalidation_0-rmse:4.86008\n",
      "[113]\tvalidation_0-rmse:4.86\n",
      "[114]\tvalidation_0-rmse:4.85998\n",
      "[115]\tvalidation_0-rmse:4.85996\n",
      "[116]\tvalidation_0-rmse:4.86006\n",
      "[117]\tvalidation_0-rmse:4.85978\n",
      "[118]\tvalidation_0-rmse:4.85996\n",
      "[119]\tvalidation_0-rmse:4.85965\n",
      "[120]\tvalidation_0-rmse:4.8596\n",
      "[121]\tvalidation_0-rmse:4.85955\n",
      "[122]\tvalidation_0-rmse:4.85952\n",
      "[123]\tvalidation_0-rmse:4.85974\n",
      "[124]\tvalidation_0-rmse:4.85977\n",
      "[125]\tvalidation_0-rmse:4.85909\n",
      "[126]\tvalidation_0-rmse:4.85923\n",
      "[127]\tvalidation_0-rmse:4.85905\n",
      "[128]\tvalidation_0-rmse:4.8591\n",
      "[129]\tvalidation_0-rmse:4.8592\n",
      "[130]\tvalidation_0-rmse:4.85935\n",
      "[131]\tvalidation_0-rmse:4.8593\n",
      "[132]\tvalidation_0-rmse:4.85935\n",
      "[133]\tvalidation_0-rmse:4.85939\n",
      "[134]\tvalidation_0-rmse:4.85889\n",
      "[135]\tvalidation_0-rmse:4.85894\n",
      "[136]\tvalidation_0-rmse:4.85897\n",
      "[137]\tvalidation_0-rmse:4.85898\n",
      "[138]\tvalidation_0-rmse:4.85896\n",
      "[139]\tvalidation_0-rmse:4.859\n",
      "[140]\tvalidation_0-rmse:4.859\n",
      "[141]\tvalidation_0-rmse:4.85911\n",
      "[142]\tvalidation_0-rmse:4.85921\n",
      "[143]\tvalidation_0-rmse:4.85929\n",
      "[144]\tvalidation_0-rmse:4.85924\n",
      "[145]\tvalidation_0-rmse:4.85935\n",
      "[146]\tvalidation_0-rmse:4.85938\n",
      "[147]\tvalidation_0-rmse:4.85948\n",
      "[148]\tvalidation_0-rmse:4.85938\n",
      "[149]\tvalidation_0-rmse:4.85945\n",
      "[150]\tvalidation_0-rmse:4.85956\n",
      "[151]\tvalidation_0-rmse:4.85968\n",
      "[152]\tvalidation_0-rmse:4.85973\n",
      "[153]\tvalidation_0-rmse:4.85977\n",
      "[154]\tvalidation_0-rmse:4.85981\n",
      "[155]\tvalidation_0-rmse:4.85987\n",
      "[156]\tvalidation_0-rmse:4.86009\n",
      "[157]\tvalidation_0-rmse:4.85986\n",
      "[158]\tvalidation_0-rmse:4.85992\n",
      "[159]\tvalidation_0-rmse:4.85989\n",
      "[160]\tvalidation_0-rmse:4.85996\n",
      "[161]\tvalidation_0-rmse:4.86008\n",
      "[162]\tvalidation_0-rmse:4.86\n",
      "[163]\tvalidation_0-rmse:4.86021\n",
      "[164]\tvalidation_0-rmse:4.86003\n",
      "[165]\tvalidation_0-rmse:4.86013\n",
      "[166]\tvalidation_0-rmse:4.86016\n",
      "[167]\tvalidation_0-rmse:4.8601\n",
      "[168]\tvalidation_0-rmse:4.85999\n",
      "[169]\tvalidation_0-rmse:4.8598\n",
      "[170]\tvalidation_0-rmse:4.86008\n",
      "[171]\tvalidation_0-rmse:4.86017\n",
      "[172]\tvalidation_0-rmse:4.86027\n",
      "[173]\tvalidation_0-rmse:4.86052\n",
      "[174]\tvalidation_0-rmse:4.86017\n",
      "[175]\tvalidation_0-rmse:4.86043\n",
      "[176]\tvalidation_0-rmse:4.86044\n",
      "[177]\tvalidation_0-rmse:4.86046\n",
      "[178]\tvalidation_0-rmse:4.86043\n",
      "[179]\tvalidation_0-rmse:4.86025\n",
      "[180]\tvalidation_0-rmse:4.86028\n",
      "[181]\tvalidation_0-rmse:4.86043\n",
      "[182]\tvalidation_0-rmse:4.8605\n",
      "[183]\tvalidation_0-rmse:4.86066\n",
      "[184]\tvalidation_0-rmse:4.86066\n",
      "Stopping. Best iteration:\n",
      "[134]\tvalidation_0-rmse:4.85889\n",
      "\n",
      "2018.06.01 17:36\n",
      "Time to process: [80.12222409248352] seconds\n"
     ]
    }
   ],
   "source": [
    "# TRAIN & CALC EARLY STOPPING BEST-ITERATION\n",
    "start_time = get_time()\n",
    "\n",
    "param = { \"tree_method\":\"gpu_hist\", \"silent\":False, \"max_depth\":10, \"n_estimators\":500, \"n_jobs\":cores }\n",
    "model_xgb_tip_percentage = xgb.XGBRegressor( **param )\n",
    "\n",
    "# set eval set & early stopping\n",
    "model_xgb_tip_percentage.fit( X_train, y_train, early_stopping_rounds=50, eval_set=eval_set, verbose=True, eval_metric=\"rmse\" )\n",
    "\n",
    "print_time( start_time, get_time() )\n",
    "\n",
    "# best RMSE *before* adding peer mph, delta and bearing\n",
    "# 4.85855\n",
    "# same after adding peer mph, delta and bearing\n",
    "\n",
    "# 4.85428 after adding mean target encoding for payment type"
   ]
  },
  {
   "cell_type": "markdown",
   "metadata": {},
   "source": [
    "## Plot Important Features for Tip Percentage Prediction"
   ]
  },
  {
   "cell_type": "code",
   "execution_count": 10,
   "metadata": {},
   "outputs": [],
   "source": [
    "# # work around for bork3d feature importance plot for xgboost\n",
    "# d = dict(zip( X_test.columns, model_xgb_tip_percentage.feature_importances_))\n",
    "# ss = sorted( d, key=d.get, reverse=True )\n",
    "# #top_names = ss[ 0:n_features ]\n",
    "# #ss\n"
   ]
  },
  {
   "cell_type": "code",
   "execution_count": 11,
   "metadata": {},
   "outputs": [
    {
     "data": {
      "image/png": "[encoded data removed]",
      "text/plain": [
       "<matplotlib.figure.Figure at 0x7fa1ef465978>"
      ]
     },
     "metadata": {},
     "output_type": "display_data"
    }
   ],
   "source": [
    "# https://stackoverflow.com/questions/40081888/xgboost-plot-importance-figure-size\n",
    "# Kludgey wrapper to set figsize.  B0rk3d too\n",
    "# def my_plot_importance( booster, figsize, **kwargs): \n",
    "    \n",
    "#     fig, ax = plt.subplots( 1, 1, figsize=figsize )\n",
    "#     return plot_importance( booster=booster, ax=ax, **kwargs )\n",
    "\n",
    "# my_plot_importance( model_xgb_tip_percentage, figsize=( 16, 0 ) )\n",
    "\n",
    "plt = xgb.plot_importance( model_xgb_tip_percentage )"
   ]
  },
  {
   "cell_type": "code",
   "execution_count": 6,
   "metadata": {},
   "outputs": [
    {
     "name": "stdout",
     "output_type": "stream",
     "text": [
      "RAW rmse      [4.860655]\n",
      "RAW R-squared [0.840791]\n",
      "POS rmse [4.860322]\n"
     ]
    }
   ],
   "source": [
    "# get stats for first model, using test dataset\n",
    "predictions_tip_percent = model_xgb_tip_percentage.predict( X_test )\n",
    "# some tips were predicted as negatives!\n",
    "predictions_tip_percent_clipped = [ max( tip, 0.0 ) for tip in predictions_tip_percent ]\n",
    "\n",
    "rmse = sqrt( mean_squared_error( y_test, predictions_tip_percent ) )\n",
    "print( \"RAW rmse      [%f]\" % ( rmse ) )\n",
    "r2 = r2_score( y_test, predictions_tip_percent )\n",
    "print( 'RAW R-squared [%f]' % r2 )\n",
    "\n",
    "rmse = sqrt( mean_squared_error( y_test, predictions_tip_percent_clipped ) )\n",
    "print( \"POS rmse [%f]\" % ( rmse ) )\n",
    "\n",
    "# super low when other directly related values are included in training set, obviously\n",
    "#rmse [0.338194]\n",
    "\n",
    "# RAW rmse      [4.855230]\n",
    "# RAW R-squared [0.841146]\n",
    "# POS rmse [4.854883]"
   ]
  },
  {
   "cell_type": "markdown",
   "metadata": {},
   "source": [
    "## How Many Predictions Are Negative?"
   ]
  },
  {
   "cell_type": "code",
   "execution_count": 7,
   "metadata": {},
   "outputs": [
    {
     "name": "stdout",
     "output_type": "stream",
     "text": [
      "108431\n",
      "-3.65264\n",
      "363958\n"
     ]
    }
   ],
   "source": [
    "negative_tips = 0\n",
    "for tip in predictions_tip_percent:\n",
    "    if ( tip < 0 ):\n",
    "        negative_tips += 1\n",
    "\n",
    "print( negative_tips )\n",
    "print( predictions_tip_percent.min() )\n",
    "print( len( predictions_tip_percent ) )\n"
   ]
  },
  {
   "cell_type": "code",
   "execution_count": 8,
   "metadata": {},
   "outputs": [
    {
     "ename": "NameError",
     "evalue": "name 'predictions_tip_recorded' is not defined",
     "output_type": "error",
     "traceback": [
      "\u001b[0;31m---------------------------------------------------------------------------\u001b[0m",
      "\u001b[0;31mNameError\u001b[0m                                 Traceback (most recent call last)",
      "\u001b[0;32m<ipython-input-8-1ba03eda5d93>\u001b[0m in \u001b[0;36m<module>\u001b[0;34m()\u001b[0m\n\u001b[1;32m      1\u001b[0m \u001b[0;31m# does combining \"tip_recorded * tip_prediction_percent\" yield anything better?\u001b[0m\u001b[0;34m\u001b[0m\u001b[0;34m\u001b[0m\u001b[0m\n\u001b[0;32m----> 2\u001b[0;31m \u001b[0mpredictions_combined\u001b[0m \u001b[0;34m=\u001b[0m \u001b[0mpredictions_tip_recorded\u001b[0m \u001b[0;34m*\u001b[0m \u001b[0mpredictions_tip_percent_clipped\u001b[0m\u001b[0;34m\u001b[0m\u001b[0m\n\u001b[0m\u001b[1;32m      3\u001b[0m \u001b[0;31m#predictions_combined[ 0:10 ].tolist()\u001b[0m\u001b[0;34m\u001b[0m\u001b[0;34m\u001b[0m\u001b[0m\n",
      "\u001b[0;31mNameError\u001b[0m: name 'predictions_tip_recorded' is not defined"
     ]
    }
   ],
   "source": [
    "# does combining \"tip_recorded * tip_prediction_percent\" yield anything better?\n",
    "predictions_combined = predictions_tip_recorded * predictions_tip_percent_clipped\n",
    "#predictions_combined[ 0:10 ].tolist()"
   ]
  },
  {
   "cell_type": "code",
   "execution_count": 9,
   "metadata": {},
   "outputs": [
    {
     "ename": "NameError",
     "evalue": "name 'predictions_combined' is not defined",
     "output_type": "error",
     "traceback": [
      "\u001b[0;31m---------------------------------------------------------------------------\u001b[0m",
      "\u001b[0;31mNameError\u001b[0m                                 Traceback (most recent call last)",
      "\u001b[0;32m<ipython-input-9-6b11ab68e04b>\u001b[0m in \u001b[0;36m<module>\u001b[0;34m()\u001b[0m\n\u001b[0;32m----> 1\u001b[0;31m \u001b[0mrmse\u001b[0m \u001b[0;34m=\u001b[0m \u001b[0msqrt\u001b[0m\u001b[0;34m(\u001b[0m \u001b[0mmean_squared_error\u001b[0m\u001b[0;34m(\u001b[0m \u001b[0my_test\u001b[0m\u001b[0;34m,\u001b[0m \u001b[0mpredictions_combined\u001b[0m \u001b[0;34m)\u001b[0m \u001b[0;34m)\u001b[0m\u001b[0;34m\u001b[0m\u001b[0m\n\u001b[0m\u001b[1;32m      2\u001b[0m \u001b[0mprint\u001b[0m\u001b[0;34m(\u001b[0m \u001b[0;34m\"Combined rmse [%f]\"\u001b[0m \u001b[0;34m%\u001b[0m \u001b[0;34m(\u001b[0m \u001b[0mrmse\u001b[0m \u001b[0;34m)\u001b[0m \u001b[0;34m)\u001b[0m\u001b[0;34m\u001b[0m\u001b[0m\n\u001b[1;32m      3\u001b[0m \u001b[0;31m# Nope!\u001b[0m\u001b[0;34m\u001b[0m\u001b[0;34m\u001b[0m\u001b[0m\n",
      "\u001b[0;31mNameError\u001b[0m: name 'predictions_combined' is not defined"
     ]
    }
   ],
   "source": [
    "rmse = sqrt( mean_squared_error( y_test, predictions_combined ) )\n",
    "print( \"Combined rmse [%f]\" % ( rmse ) )\n",
    "# Nope!"
   ]
  },
  {
   "cell_type": "code",
   "execution_count": null,
   "metadata": {},
   "outputs": [],
   "source": []
  },
  {
   "cell_type": "markdown",
   "metadata": {},
   "source": [
    "## Build LightGB Model, Run on GPU"
   ]
  },
  {
   "cell_type": "code",
   "execution_count": 10,
   "metadata": {},
   "outputs": [
    {
     "name": "stdout",
     "output_type": "stream",
     "text": [
      "2018.06.01 17:41\n",
      "RAW R-squared for LightGBM is 0.840579\n",
      "RAW RMSE      for LightGBM is 4.863897\n",
      "2018.06.01 17:42\n",
      "Time to process: [81.49203634262085] seconds\n"
     ]
    }
   ],
   "source": [
    "start_time = get_time()\n",
    "\n",
    "# 'gpu' and 'num_threads' get us GPU and parallel processing on CPU\n",
    "lgb_params = {\n",
    "               \"device\": \"gpu\",\n",
    "               \"num_threads\": 12,\n",
    "               'feature_fraction': 0.75,\n",
    "               'metric': 'rmse',\n",
    "               'min_data_in_leaf': 2**7, \n",
    "               'bagging_fraction': 0.75, \n",
    "               'learnprint_timeing_rate': 0.03, \n",
    "               'objective': 'mse', \n",
    "               'bagging_seed': 2**7, \n",
    "               'num_leaves': 2**7,\n",
    "               'bagging_freq':1,\n",
    "               'verbose':1 \n",
    "              }\n",
    "\n",
    "model_lgb = lgb.train( lgb_params, lgb.Dataset( X_train, label=y_train ), 500 )\n",
    "predictions_tip_percent_lgbm = model_lgb.predict( X_test )\n",
    "\n",
    "print( 'RAW R-squared for LightGBM is %f' % r2_score( y_test, predictions_tip_percent_lgbm ) )\n",
    "print( 'RAW RMSE      for LightGBM is %f' % np.sqrt( mean_squared_error( y_test, predictions_tip_percent_lgbm ) ) )\n",
    "\n",
    "finish_time = get_time()\n",
    "print_time( start_time, finish_time )\n",
    "\n",
    "# Before adding bearing, peer mph and mph delta\n",
    "# RAW R-squared for LightGBM is 0.840568\n",
    "# RAW RMSE      for LightGBM is 4.864064\n",
    "\n",
    "# 2018.05.16 17:53\n",
    "# RAW R-squared for LightGBM is 0.840552\n",
    "# RAW RMSE      for LightGBM is 4.864311\n",
    "# Time to process: [19.275200605392456] seconds\n",
    "\n",
    "# 2018.05.25 14:40\n",
    "# RAW R-squared for LightGBM is 0.840512\n",
    "# RAW RMSE      for LightGBM is 4.864918\n",
    "# Time to process: [47.710164070129395] seconds\n",
    "\n"
   ]
  },
  {
   "cell_type": "markdown",
   "metadata": {},
   "source": [
    "## Plot Important Features"
   ]
  },
  {
   "cell_type": "code",
   "execution_count": 11,
   "metadata": {},
   "outputs": [
    {
     "data": {
      "text/plain": [
       "<matplotlib.axes._subplots.AxesSubplot at 0x7f4db5988320>"
      ]
     },
     "execution_count": 11,
     "metadata": {},
     "output_type": "execute_result"
    },
    {
     "data": {
      "image/png": "[encoded data removed]",
      "text/plain": [
       "<matplotlib.figure.Figure at 0x7f4dbb96eeb8>"
      ]
     },
     "metadata": {},
     "output_type": "display_data"
    }
   ],
   "source": [
    "lgb.plot_importance( model_lgb, max_num_features=50, figsize=( 16, 10 ) )"
   ]
  },
  {
   "cell_type": "markdown",
   "metadata": {},
   "source": [
    "## Plot Residuals for LightGBM Model (Which is Moderately Better)"
   ]
  },
  {
   "cell_type": "code",
   "execution_count": 12,
   "metadata": {},
   "outputs": [
    {
     "data": {
      "text/plain": [
       "Text(0.5,0,'Residuals = Actual - Predicted Values')"
      ]
     },
     "execution_count": 12,
     "metadata": {},
     "output_type": "execute_result"
    },
    {
     "data": {
      "image/png": "[encoded data removed]",
      "text/plain": [
       "<matplotlib.figure.Figure at 0x7f4c9d2b19b0>"
      ]
     },
     "metadata": {},
     "output_type": "display_data"
    }
   ],
   "source": [
    "# create df w/ results\n",
    "data = { 'tip_percentage':y_test,'prediction':predictions_tip_percent_lgbm, 'residuals': y_test - predictions_tip_percent_lgbm }\n",
    "results_df = pd.DataFrame( data )\n",
    "\n",
    "# Pandas provides quick plots\n",
    "plt = results_df.residuals.plot.hist( bins=50, figsize=( 10, 6 ), grid=True, xlim=( -35, 35 ) )\n",
    "plt.set_xlabel( \"Residuals = Actual - Predicted Values\" )"
   ]
  },
  {
   "cell_type": "markdown",
   "metadata": {},
   "source": [
    "## Run LightGBM as Multiclass"
   ]
  },
  {
   "cell_type": "code",
   "execution_count": 4,
   "metadata": {},
   "outputs": [],
   "source": [
    "# create train & test sets: omit tip or related values\n",
    "X_trips = trips.drop( columns=[ \"tip_percent\", \"tip_amount\", \"total_amount\", \"tip_percent_bin\" ] )\n",
    "y_trips = trips.tip_percent_bin\n",
    "\n",
    "X_train, X_test, y_train, y_test = train_test_split( X_trips, y_trips, random_state=42 )\n",
    "eval_set = [ ( X_test, y_test ) ]"
   ]
  },
  {
   "cell_type": "code",
   "execution_count": 5,
   "metadata": {},
   "outputs": [
    {
     "name": "stdout",
     "output_type": "stream",
     "text": [
      "2018.06.03 12:48\n"
     ]
    },
    {
     "ename": "KeyboardInterrupt",
     "evalue": "",
     "output_type": "error",
     "traceback": [
      "\u001b[0;31m---------------------------------------------------------------------------\u001b[0m",
      "\u001b[0;31mKeyboardInterrupt\u001b[0m                         Traceback (most recent call last)",
      "\u001b[0;32m<ipython-input-5-85e1fefa769e>\u001b[0m in \u001b[0;36m<module>\u001b[0;34m()\u001b[0m\n\u001b[1;32m     24\u001b[0m               }\n\u001b[1;32m     25\u001b[0m \u001b[0;34m\u001b[0m\u001b[0m\n\u001b[0;32m---> 26\u001b[0;31m \u001b[0mmodel_lgb_tip_percent_bin\u001b[0m \u001b[0;34m=\u001b[0m \u001b[0mlgb\u001b[0m\u001b[0;34m.\u001b[0m\u001b[0mtrain\u001b[0m\u001b[0;34m(\u001b[0m \u001b[0mlgb_params\u001b[0m\u001b[0;34m,\u001b[0m \u001b[0mlgb\u001b[0m\u001b[0;34m.\u001b[0m\u001b[0mDataset\u001b[0m\u001b[0;34m(\u001b[0m \u001b[0mX_train\u001b[0m\u001b[0;34m,\u001b[0m \u001b[0mlabel\u001b[0m\u001b[0;34m=\u001b[0m\u001b[0my_train\u001b[0m \u001b[0;34m)\u001b[0m\u001b[0;34m,\u001b[0m \u001b[0;36m500\u001b[0m \u001b[0;34m)\u001b[0m\u001b[0;34m\u001b[0m\u001b[0m\n\u001b[0m\u001b[1;32m     27\u001b[0m \u001b[0mpredictions_tip_percent_bin_lgb\u001b[0m \u001b[0;34m=\u001b[0m \u001b[0mmodel_lgb_tip_percent_bin\u001b[0m\u001b[0;34m.\u001b[0m\u001b[0mpredict\u001b[0m\u001b[0;34m(\u001b[0m \u001b[0mX_test\u001b[0m \u001b[0;34m)\u001b[0m\u001b[0;34m\u001b[0m\u001b[0m\n\u001b[1;32m     28\u001b[0m \u001b[0;34m\u001b[0m\u001b[0m\n",
      "\u001b[0;32m~/git/LightGBM/python-package/lightgbm/engine.py\u001b[0m in \u001b[0;36mtrain\u001b[0;34m(params, train_set, num_boost_round, valid_sets, valid_names, fobj, feval, init_model, feature_name, categorical_feature, early_stopping_rounds, evals_result, verbose_eval, learning_rates, keep_training_booster, callbacks)\u001b[0m\n\u001b[1;32m    199\u001b[0m                                     evaluation_result_list=None))\n\u001b[1;32m    200\u001b[0m \u001b[0;34m\u001b[0m\u001b[0m\n\u001b[0;32m--> 201\u001b[0;31m         \u001b[0mbooster\u001b[0m\u001b[0;34m.\u001b[0m\u001b[0mupdate\u001b[0m\u001b[0;34m(\u001b[0m\u001b[0mfobj\u001b[0m\u001b[0;34m=\u001b[0m\u001b[0mfobj\u001b[0m\u001b[0;34m)\u001b[0m\u001b[0;34m\u001b[0m\u001b[0m\n\u001b[0m\u001b[1;32m    202\u001b[0m \u001b[0;34m\u001b[0m\u001b[0m\n\u001b[1;32m    203\u001b[0m         \u001b[0mevaluation_result_list\u001b[0m \u001b[0;34m=\u001b[0m \u001b[0;34m[\u001b[0m\u001b[0;34m]\u001b[0m\u001b[0;34m\u001b[0m\u001b[0m\n",
      "\u001b[0;32m~/git/LightGBM/python-package/lightgbm/basic.py\u001b[0m in \u001b[0;36mupdate\u001b[0;34m(self, train_set, fobj)\u001b[0m\n\u001b[1;32m   1522\u001b[0m             _safe_call(_LIB.LGBM_BoosterUpdateOneIter(\n\u001b[1;32m   1523\u001b[0m                 \u001b[0mself\u001b[0m\u001b[0;34m.\u001b[0m\u001b[0mhandle\u001b[0m\u001b[0;34m,\u001b[0m\u001b[0;34m\u001b[0m\u001b[0m\n\u001b[0;32m-> 1524\u001b[0;31m                 ctypes.byref(is_finished)))\n\u001b[0m\u001b[1;32m   1525\u001b[0m             \u001b[0mself\u001b[0m\u001b[0;34m.\u001b[0m\u001b[0m__is_predicted_cur_iter\u001b[0m \u001b[0;34m=\u001b[0m \u001b[0;34m[\u001b[0m\u001b[0;32mFalse\u001b[0m \u001b[0;32mfor\u001b[0m \u001b[0m_\u001b[0m \u001b[0;32min\u001b[0m \u001b[0mrange_\u001b[0m\u001b[0;34m(\u001b[0m\u001b[0mself\u001b[0m\u001b[0;34m.\u001b[0m\u001b[0m__num_dataset\u001b[0m\u001b[0;34m)\u001b[0m\u001b[0;34m]\u001b[0m\u001b[0;34m\u001b[0m\u001b[0m\n\u001b[1;32m   1526\u001b[0m             \u001b[0;32mreturn\u001b[0m \u001b[0mis_finished\u001b[0m\u001b[0;34m.\u001b[0m\u001b[0mvalue\u001b[0m \u001b[0;34m==\u001b[0m \u001b[0;36m1\u001b[0m\u001b[0;34m\u001b[0m\u001b[0m\n",
      "\u001b[0;31mKeyboardInterrupt\u001b[0m: "
     ]
    }
   ],
   "source": [
    "start_time = get_time()\n",
    "\n",
    "# 'gpu' and 'num_threads' get us GPU and parallel processing on CPU\n",
    "lgb_params = {\n",
    "               \"device\": \"gpu\",\n",
    "               \"num_threads\": 12,\n",
    "               'max_depth':-1, # unlimited\n",
    "               'feature_fraction': 0.75,\n",
    "               'metric': 'multi_logloss',\n",
    "               'metric_freq':10,\n",
    "               'bagging_fraction': 0.75, \n",
    "               'learnprint_timeing_rate': 0.03, \n",
    "               'objective': 'multiclass', \n",
    "               'bagging_seed': 42, \n",
    "               'bagging_freq':1,\n",
    "               'verbose':5,\n",
    "               'num_class':130,\n",
    "               #'eval_set':eval_set, \n",
    "               #'eval_metric':[ 'multi_error' ],\n",
    "               #'num_boost_round':500,\n",
    "               #'early_stopping_round':50,  \n",
    "               'task':\"train\",\n",
    "               'min_data_in_leaf':20 # default value\n",
    "              }\n",
    "\n",
    "model_lgb_tip_percent_bin = lgb.train( lgb_params, lgb.Dataset( X_train, label=y_train ), 500 )\n",
    "predictions_tip_percent_bin_lgb = model_lgb_tip_percent_bin.predict( X_test )\n",
    "\n",
    "accuracy = accuracy_score( y_test, predictions_tip_percent_bin_lgb )\n",
    "print( \"Accuracy: %.2f%%\" % ( accuracy * 100.0 ) )\n",
    "\n",
    "finish_time = get_time()\n",
    "print_time( start_time, finish_time )\n",
    "\n"
   ]
  },
  {
   "cell_type": "code",
   "execution_count": 21,
   "metadata": {},
   "outputs": [],
   "source": [
    "# predictions_tip_percent_bin_lgb[ 0:10 ]"
   ]
  },
  {
   "cell_type": "code",
   "execution_count": 22,
   "metadata": {},
   "outputs": [],
   "source": [
    "# from sklearn.metrics import confusion_matrix\n",
    "# accuracy = confusion_matrix( y_test, predictions_tip_percent_bin_lgb )\n",
    "# print( \"Accuracy: %.2f%%\" % ( accuracy * 100.0 ) )"
   ]
  },
  {
   "cell_type": "markdown",
   "metadata": {},
   "source": [
    "## K Nearest Neighbor Is S l o o o o o o o w: 2.3 Hours"
   ]
  },
  {
   "cell_type": "code",
   "execution_count": 23,
   "metadata": {},
   "outputs": [],
   "source": [
    "# from sklearn.neighbors import KNeighborsClassifier\n",
    "# from sklearn.preprocessing import MinMaxScaler\n",
    "\n",
    "# # create train & test sets: omit tip or related values\n",
    "# X_trips = trips.drop( columns=[ \"tip_percent\", \"tip_amount\", \"total_amount\", \"tip_percent_bin\" ] )\n",
    "# y_trips = trips.tip_percent_bin\n",
    "\n",
    "# X_train, X_test, y_train, y_test = train_test_split( X_trips, y_trips, random_state=42 )\n",
    "# eval_set = [ ( X_test, y_test ) ]\n",
    "\n",
    "# scaler = MinMaxScaler()\n",
    "# X_train_scaled = scaler.fit_transform( X_train )\n",
    "\n",
    "# # we must apply the scaling to the test set that we computed for the training set\n",
    "# X_test_scaled = scaler.transform( X_test )\n"
   ]
  },
  {
   "cell_type": "code",
   "execution_count": 20,
   "metadata": {},
   "outputs": [],
   "source": [
    "# start_time = get_time()\n",
    "\n",
    "# class_count = len( trips.tip_percent_bin.unique() )\n",
    "# class_count\n",
    "\n",
    "# knn = KNeighborsClassifier( n_neighbors=class_count, n_jobs=cores ) #still runs on one core :-(\n",
    "# knn.fit( X_train_scaled, y_train )\n",
    "\n",
    "# print( 'Accuracy of K-NN classifier on training set: {:.2f}'.format( knn.score( X_train_scaled, y_train ) ) )\n",
    "# print( 'Accuracy of K-NN classifier on test set: {:.2f}'.format( knn.score( X_test_scaled, y_test ) ) )\n",
    "\n",
    "# print_time( start_time, get_time(), interval=\"hours\" )\n",
    "\n",
    "# # 2018.05.16 17:53\n",
    "# # Accuracy of K-NN classifier on training set: 0.74\n",
    "# # Accuracy of K-NN classifier on test set: 0.73\n",
    "# # 2018.05.16 20:12\n",
    "# # Time to process: [2.316765977475378] hours"
   ]
  },
  {
   "cell_type": "code",
   "execution_count": 19,
   "metadata": {},
   "outputs": [],
   "source": [
    "# # pickle it, before it gets lost and I have to recompute!\n",
    "# filename = \"models/tip-percent-bins-130-knn-2018-05.16.pickle\"\n",
    "# pickle.dump( knn, open( filename, 'wb' ) )"
   ]
  },
  {
   "cell_type": "code",
   "execution_count": 21,
   "metadata": {},
   "outputs": [],
   "source": [
    "# start_time = get_time()\n",
    "# # load the model from disk\n",
    "# loaded_model = pickle.load( open( filename, 'rb' ) )\n",
    "# result = loaded_model.score( X_test, y_test )\n",
    "# print( result )\n",
    "# print_time( start_time, get_time() )"
   ]
  },
  {
   "cell_type": "code",
   "execution_count": null,
   "metadata": {},
   "outputs": [],
   "source": []
  }
 ],
 "metadata": {
  "kernelspec": {
   "display_name": "Python 3",
   "language": "python",
   "name": "python3"
  },
  "language_info": {
   "codemirror_mode": {
    "name": "ipython",
    "version": 3
   },
   "file_extension": ".py",
   "mimetype": "text/x-python",
   "name": "python",
   "nbconvert_exporter": "python",
   "pygments_lexer": "ipython3",
   "version": "3.6.4"
  }
 },
 "nbformat": 4,
 "nbformat_minor": 2
}
